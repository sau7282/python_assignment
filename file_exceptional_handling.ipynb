{
 "cells": [
  {
   "cell_type": "code",
   "execution_count": 1,
   "id": "86cdd04c",
   "metadata": {},
   "outputs": [
    {
     "data": {
      "text/plain": [
       "'\\nIn general, multithreading is preferable for tasks that involve I/O-bound operations, such as reading/writing \\nfiles, handling network requests, or interacting with databases, because it allows concurrent execution without\\nmuch CPU overhead. Since these tasks often involve waiting for external resources, threads can efficiently overlap\\nI/O activities while one waits, allowing another to proceed.\\n\\nMultiprocessing is ideal for CPU-bound tasks, like heavy computations, data processing, or image manipulation, \\nwhich require substantial CPU usage. Each process has its own memory space, avoiding the Global Interpreter Lock\\n(GIL) in Python, which can limit the effectiveness of threads in CPU-intensive scenarios.\\n\\n'"
      ]
     },
     "execution_count": 1,
     "metadata": {},
     "output_type": "execute_result"
    }
   ],
   "source": [
    "# 1.Discuss the scenarios where multithreading is preferable to multiprocessing and scenarios where\n",
    "# multiprocessing is a better choice.\n",
    "\n",
    "'''\n",
    "In general, multithreading is preferable for tasks that involve I/O-bound operations, such as reading/writing \n",
    "files, handling network requests, or interacting with databases, because it allows concurrent execution without\n",
    "much CPU overhead. Since these tasks often involve waiting for external resources, threads can efficiently overlap\n",
    "I/O activities while one waits, allowing another to proceed.\n",
    "\n",
    "Multiprocessing is ideal for CPU-bound tasks, like heavy computations, data processing, or image manipulation, \n",
    "which require substantial CPU usage. Each process has its own memory space, avoiding the Global Interpreter Lock\n",
    "(GIL) in Python, which can limit the effectiveness of threads in CPU-intensive scenarios.\n",
    "\n",
    "'''"
   ]
  },
  {
   "cell_type": "code",
   "execution_count": 2,
   "id": "09925e63",
   "metadata": {},
   "outputs": [
    {
     "data": {
      "text/plain": [
       "'\\nA process pool is a collection of worker processes that are managed together to execute tasks concurrently, \\noften used in multiprocessing. It helps manage multiple processes efficiently by reusing a fixed number of \\nprocesses to handle a larger number of tasks, reducing the overhead of creating and destroying processes \\nrepeatedly. This makes it highly efficient for parallel execution of repetitive, CPU-bound tasks, as tasks can \\nbe distributed across the pool. The pool also allows easy task management, scheduling, and tracking of completed \\ntasks.\\n'"
      ]
     },
     "execution_count": 2,
     "metadata": {},
     "output_type": "execute_result"
    }
   ],
   "source": [
    "# 2.Describe what a process pool is and how it helps in managing multiple processes efficiently.\n",
    "\n",
    "'''\n",
    "A process pool is a collection of worker processes that are managed together to execute tasks concurrently, \n",
    "often used in multiprocessing. It helps manage multiple processes efficiently by reusing a fixed number of \n",
    "processes to handle a larger number of tasks, reducing the overhead of creating and destroying processes \n",
    "repeatedly. This makes it highly efficient for parallel execution of repetitive, CPU-bound tasks, as tasks can \n",
    "be distributed across the pool. The pool also allows easy task management, scheduling, and tracking of completed \n",
    "tasks.\n",
    "'''"
   ]
  },
  {
   "cell_type": "code",
   "execution_count": 3,
   "id": "810a75e8",
   "metadata": {},
   "outputs": [
    {
     "data": {
      "text/plain": [
       "'\\nMultiprocessing in Python is a technique for running multiple processes in parallel, typically across multiple \\nCPU cores, which allows a program to execute CPU-bound tasks more efficiently. Each process runs in its own memory \\nspace, avoiding the Global Interpreter Lock (GIL) limitations in Python, which restricts concurrent execution \\nwithin a single process. Multiprocessing is particularly beneficial for tasks requiring intensive computation,\\nlike data processing, numerical simulations, or machine learning, where multiple processes can improve performance\\nby distributing the workload across available CPU cores.\\n\\n'"
      ]
     },
     "execution_count": 3,
     "metadata": {},
     "output_type": "execute_result"
    }
   ],
   "source": [
    "# 3.Explain what multiprocessing is and why it is used in Python programs.\n",
    "'''\n",
    "Multiprocessing in Python is a technique for running multiple processes in parallel, typically across multiple \n",
    "CPU cores, which allows a program to execute CPU-bound tasks more efficiently. Each process runs in its own memory \n",
    "space, avoiding the Global Interpreter Lock (GIL) limitations in Python, which restricts concurrent execution \n",
    "within a single process. Multiprocessing is particularly beneficial for tasks requiring intensive computation,\n",
    "like data processing, numerical simulations, or machine learning, where multiple processes can improve performance\n",
    "by distributing the workload across available CPU cores.\n",
    "\n",
    "'''"
   ]
  },
  {
   "cell_type": "code",
   "execution_count": 5,
   "id": "67a1f7be",
   "metadata": {},
   "outputs": [
    {
     "name": "stdout",
     "output_type": "stream",
     "text": [
      "Added: 24 | List: [24]\n",
      "Removed: 24 | List: []\n",
      "Added: 99 | List: [99]\n",
      "Removed: 99 | List: []\n",
      "Added: 43 | List: [43]\n",
      "Added: 71 | List: [43, 71]\n",
      "Removed: 43 | List: [71]\n",
      "Added: 62 | List: [71, 62]\n",
      "Removed: 71 | List: [62]\n",
      "Added: 52 | List: [62, 52]\n",
      "Added: 88 | List: [62, 52, 88]\n",
      "Removed: 62 | List: [52, 88]\n",
      "Added: 30 | List: [52, 88, 30]\n",
      "Removed: 52 | List: [88, 30]\n",
      "Added: 96 | List: [88, 30, 96]\n",
      "Added: 45 | List: [88, 30, 96, 45]\n",
      "Removed: 88 | List: [30, 96, 45]\n",
      "Removed: 30 | List: [96, 45]\n",
      "Removed: 96 | List: [45]\n",
      "Removed: 45 | List: []\n"
     ]
    }
   ],
   "source": [
    "# 4.Write a Python program using multithreading where one thread adds numbers to a list, and another thread \n",
    "# removes numbers from the list. Implement a mechanism to avoid race conditions using threading.Lock.\n",
    "\n",
    "import threading\n",
    "import time\n",
    "import random\n",
    "numbers = []\n",
    "lock = threading.Lock()\n",
    "def add_numbers():\n",
    "    for _ in range(10):\n",
    "        with lock: \n",
    "            num = random.randint(1, 100)\n",
    "            numbers.append(num)\n",
    "            print(f\"Added: {num} | List: {numbers}\")\n",
    "        time.sleep(0.1)  \n",
    "def remove_numbers():\n",
    "    for _ in range(10):\n",
    "        with lock:  \n",
    "            if numbers:\n",
    "                num = numbers.pop(0)\n",
    "                print(f\"Removed: {num} | List: {numbers}\")\n",
    "        time.sleep(0.15)  # Simulate processing time\n",
    "t1 = threading.Thread(target=add_numbers)\n",
    "t2 = threading.Thread(target=remove_numbers)\n",
    "t1.start()\n",
    "t2.start()\n",
    "t1.join()\n",
    "t2.join()\n",
    "# output:\n",
    "# Added: 24 | List: [24]\n",
    "# Removed: 24 | List: []\n",
    "# Added: 99 | List: [99]\n",
    "# Removed: 99 | List: []\n",
    "# Added: 43 | List: [43]\n",
    "# Added: 71 | List: [43, 71]\n",
    "# Removed: 43 | List: [71]\n",
    "# Added: 62 | List: [71, 62]\n",
    "# Removed: 71 | List: [62]\n",
    "# Added: 52 | List: [62, 52]\n",
    "# Added: 88 | List: [62, 52, 88]\n",
    "# Removed: 62 | List: [52, 88]\n",
    "# Added: 30 | List: [52, 88, 30]\n",
    "# Removed: 52 | List: [88, 30]\n",
    "# Added: 96 | List: [88, 30, 96]\n",
    "# Added: 45 | List: [88, 30, 96, 45]\n",
    "# Removed: 88 | List: [30, 96, 45]\n",
    "# Removed: 30 | List: [96, 45]\n",
    "# Removed: 96 | List: [45]\n",
    "# Removed: 45 | List: []"
   ]
  },
  {
   "cell_type": "code",
   "execution_count": 7,
   "id": "fb485d8d",
   "metadata": {},
   "outputs": [
    {
     "data": {
      "text/plain": [
       "'\\nPython offers several tools and methods for safely sharing data between threads and processes:\\n\\nFor Threads:\\nthreading.Lock->A basic lock to prevent simultaneous access to shared data by multiple threads, helping avoid race \\nconditions.\\nthreading.RLock->A reentrant lock that allows the same thread to acquire the lock multiple times, useful in \\nrecursive functions.\\nthreading.Event->A signaling mechanism for threads to wait until an event is set, allowing coordination between \\nthreads.\\n\\nFor Processes:\\nmultiprocessing.Queue->A thread- and process-safe FIFO queue that allows processes to share data.\\nmultiprocessing.Value and Array->Provides shared memory objects (Value for single values, Array for arrays) between\\nprocesses.\\nmultiprocessing.Manager->Creates a manager object that can manage shared data structures like lists and \\ndictionaries among processes.\\nmultiprocessing.Pipe->acilitates communication between two processes with a bidirectional channel.\\n\\nThese tools ensure safe and efficient data sharing across threads and processes, supporting parallel execution \\nwhile avoiding conflicts.\\n'"
      ]
     },
     "execution_count": 7,
     "metadata": {},
     "output_type": "execute_result"
    }
   ],
   "source": [
    "# 5.Describe the methods and tools available in Python for safely sharing data between threads and processes.\n",
    "'''\n",
    "Python offers several tools and methods for safely sharing data between threads and processes:\n",
    "\n",
    "For Threads:\n",
    "threading.Lock->A basic lock to prevent simultaneous access to shared data by multiple threads, helping avoid race \n",
    "conditions.\n",
    "threading.RLock->A reentrant lock that allows the same thread to acquire the lock multiple times, useful in \n",
    "recursive functions.\n",
    "threading.Event->A signaling mechanism for threads to wait until an event is set, allowing coordination between \n",
    "threads.\n",
    "\n",
    "For Processes:\n",
    "multiprocessing.Queue->A thread- and process-safe FIFO queue that allows processes to share data.\n",
    "multiprocessing.Value and Array->Provides shared memory objects (Value for single values, Array for arrays) between\n",
    "processes.\n",
    "multiprocessing.Manager->Creates a manager object that can manage shared data structures like lists and \n",
    "dictionaries among processes.\n",
    "multiprocessing.Pipe->acilitates communication between two processes with a bidirectional channel.\n",
    "\n",
    "These tools ensure safe and efficient data sharing across threads and processes, supporting parallel execution \n",
    "while avoiding conflicts.\n",
    "'''"
   ]
  },
  {
   "cell_type": "code",
   "execution_count": 8,
   "id": "e4c4fa79",
   "metadata": {},
   "outputs": [
    {
     "data": {
      "text/plain": [
       "'\\nHandling exceptions in concurrent programs is crucial for preventing unanticipated crashes, resource leaks, and \\ninconsistent states across threads or processes. If one thread or process encounters an error, it can compromise \\nthe stability of the entire program or leave shared resources in a bad state, especially if unmanaged.\\n\\nTechniques for Handling Exceptions in Concurrency:\\n1)try-except Blocks->Wrapping each thread/process task in a try-except block to catch and handle errors \\nindividually.\\n2)Thread/Process-Specific Logging->Use logging inside each thread or process to track exceptions and issues in \\nreal-time.\\n3)Threading and Multiprocessing Libraries->Python’s concurrent.futures provides ThreadPoolExecutor and \\nProcessPoolExecutor with submit() or map() methods that allow catching exceptions as they occur, making it easier \\nto manage in asynchronous tasks.\\n4)Timeouts and Retry Logic->Adding timeouts and retry mechanisms within tasks helps mitigate transient errors that \\ncould otherwise halt execution.\\n\\nProper exception handling enhances resilience and improves error traceability in concurrent systems.\\n'"
      ]
     },
     "execution_count": 8,
     "metadata": {},
     "output_type": "execute_result"
    }
   ],
   "source": [
    "# 6.Discuss why it's crucial to handle exceptions in concurrent programs and the techniques available for doing so.\n",
    "'''\n",
    "Handling exceptions in concurrent programs is crucial for preventing unanticipated crashes, resource leaks, and \n",
    "inconsistent states across threads or processes. If one thread or process encounters an error, it can compromise \n",
    "the stability of the entire program or leave shared resources in a bad state, especially if unmanaged.\n",
    "\n",
    "Techniques for Handling Exceptions in Concurrency:\n",
    "1)try-except Blocks->Wrapping each thread/process task in a try-except block to catch and handle errors \n",
    "individually.\n",
    "2)Thread/Process-Specific Logging->Use logging inside each thread or process to track exceptions and issues in \n",
    "real-time.\n",
    "3)Threading and Multiprocessing Libraries->Python’s concurrent.futures provides ThreadPoolExecutor and \n",
    "ProcessPoolExecutor with submit() or map() methods that allow catching exceptions as they occur, making it easier \n",
    "to manage in asynchronous tasks.\n",
    "4)Timeouts and Retry Logic->Adding timeouts and retry mechanisms within tasks helps mitigate transient errors that \n",
    "could otherwise halt execution.\n",
    "\n",
    "Proper exception handling enhances resilience and improves error traceability in concurrent systems.\n",
    "'''"
   ]
  },
  {
   "cell_type": "code",
   "execution_count": null,
   "id": "01e1b20d",
   "metadata": {},
   "outputs": [],
   "source": [
    "# 7.Create a program that uses a thread pool to calculate the factorial of numbers from 1 to 10 concurrently. \n",
    "# Use concurrent.futures.ThreadPoolExecutor to manage the threads.\n",
    "\n",
    "import concurrent.futures\n",
    "import math\n",
    "def factorial(n):\n",
    "    return math.factorial(n)\n",
    "with concurrent.futures.ThreadPoolExecutor() as executor:\n",
    "    results = {executor.submit(factorial, i): i for i in range(1, 11)}\n",
    "    for future in concurrent.futures.as_completed(results):\n",
    "        number = results[future]\n",
    "        try:\n",
    "            result = future.result()\n",
    "            print(f\"Factorial of {number} is {result}\")\n",
    "        except Exception as e:\n",
    "            print(f\"Error calculating factorial for {number}: {e}\")\n",
    "\n",
    "# output:\n",
    "# Factorial of 9 is 362880\n",
    "# Factorial of 8 is 40320\n",
    "# Factorial of 7 is 5040\n",
    "# Factorial of 2 is 2\n",
    "# Factorial of 1 is 1\n",
    "# Factorial of 6 is 720\n",
    "# Factorial of 4 is 24\n",
    "# Factorial of 5 is 120\n",
    "# Factorial of 3 is 6\n",
    "# Factorial of 10 is 3628800"
   ]
  },
  {
   "cell_type": "code",
   "execution_count": 14,
   "id": "365cdbb2",
   "metadata": {},
   "outputs": [
    {
     "name": "stderr",
     "output_type": "stream",
     "text": [
      "Process SpawnPoolWorker-23:\n",
      "Process SpawnPoolWorker-22:\n",
      "Traceback (most recent call last):\n",
      "Traceback (most recent call last):\n",
      "  File \"/Users/saurabhkumar/anaconda3/lib/python3.11/multiprocessing/process.py\", line 314, in _bootstrap\n",
      "    self.run()\n",
      "  File \"/Users/saurabhkumar/anaconda3/lib/python3.11/multiprocessing/process.py\", line 108, in run\n",
      "    self._target(*self._args, **self._kwargs)\n",
      "  File \"/Users/saurabhkumar/anaconda3/lib/python3.11/multiprocessing/process.py\", line 314, in _bootstrap\n",
      "    self.run()\n",
      "  File \"/Users/saurabhkumar/anaconda3/lib/python3.11/multiprocessing/pool.py\", line 114, in worker\n",
      "    task = get()\n",
      "           ^^^^^\n",
      "  File \"/Users/saurabhkumar/anaconda3/lib/python3.11/multiprocessing/process.py\", line 108, in run\n",
      "    self._target(*self._args, **self._kwargs)\n",
      "  File \"/Users/saurabhkumar/anaconda3/lib/python3.11/multiprocessing/queues.py\", line 367, in get\n",
      "    return _ForkingPickler.loads(res)\n",
      "           ^^^^^^^^^^^^^^^^^^^^^^^^^^\n",
      "  File \"/Users/saurabhkumar/anaconda3/lib/python3.11/multiprocessing/pool.py\", line 114, in worker\n",
      "    task = get()\n",
      "           ^^^^^\n",
      "  File \"/Users/saurabhkumar/anaconda3/lib/python3.11/multiprocessing/queues.py\", line 367, in get\n",
      "    return _ForkingPickler.loads(res)\n",
      "           ^^^^^^^^^^^^^^^^^^^^^^^^^^\n",
      "AttributeError: Can't get attribute 'square' on <module '__main__' (built-in)>\n",
      "AttributeError: Can't get attribute 'square' on <module '__main__' (built-in)>\n",
      "Process SpawnPoolWorker-24:\n",
      "Traceback (most recent call last):\n",
      "Process SpawnPoolWorker-25:\n",
      "Traceback (most recent call last):\n",
      "  File \"/Users/saurabhkumar/anaconda3/lib/python3.11/multiprocessing/process.py\", line 314, in _bootstrap\n",
      "    self.run()\n",
      "  File \"/Users/saurabhkumar/anaconda3/lib/python3.11/multiprocessing/process.py\", line 108, in run\n",
      "    self._target(*self._args, **self._kwargs)\n",
      "  File \"/Users/saurabhkumar/anaconda3/lib/python3.11/multiprocessing/pool.py\", line 114, in worker\n",
      "    task = get()\n",
      "           ^^^^^\n",
      "  File \"/Users/saurabhkumar/anaconda3/lib/python3.11/multiprocessing/queues.py\", line 367, in get\n",
      "    return _ForkingPickler.loads(res)\n",
      "           ^^^^^^^^^^^^^^^^^^^^^^^^^^\n",
      "AttributeError: Can't get attribute 'square' on <module '__main__' (built-in)>\n",
      "  File \"/Users/saurabhkumar/anaconda3/lib/python3.11/multiprocessing/process.py\", line 314, in _bootstrap\n",
      "    self.run()\n",
      "  File \"/Users/saurabhkumar/anaconda3/lib/python3.11/multiprocessing/process.py\", line 108, in run\n",
      "    self._target(*self._args, **self._kwargs)\n",
      "  File \"/Users/saurabhkumar/anaconda3/lib/python3.11/multiprocessing/pool.py\", line 114, in worker\n",
      "    task = get()\n",
      "           ^^^^^\n",
      "  File \"/Users/saurabhkumar/anaconda3/lib/python3.11/multiprocessing/queues.py\", line 367, in get\n",
      "    return _ForkingPickler.loads(res)\n",
      "           ^^^^^^^^^^^^^^^^^^^^^^^^^^\n",
      "AttributeError: Can't get attribute 'square' on <module '__main__' (built-in)>\n",
      "Process SpawnPoolWorker-26:\n",
      "Traceback (most recent call last):\n",
      "  File \"/Users/saurabhkumar/anaconda3/lib/python3.11/multiprocessing/process.py\", line 314, in _bootstrap\n",
      "    self.run()\n",
      "  File \"/Users/saurabhkumar/anaconda3/lib/python3.11/multiprocessing/process.py\", line 108, in run\n",
      "    self._target(*self._args, **self._kwargs)\n",
      "  File \"/Users/saurabhkumar/anaconda3/lib/python3.11/multiprocessing/pool.py\", line 114, in worker\n",
      "    task = get()\n",
      "           ^^^^^\n",
      "  File \"/Users/saurabhkumar/anaconda3/lib/python3.11/multiprocessing/queues.py\", line 367, in get\n",
      "    return _ForkingPickler.loads(res)\n",
      "           ^^^^^^^^^^^^^^^^^^^^^^^^^^\n",
      "AttributeError: Can't get attribute 'square' on <module '__main__' (built-in)>\n",
      "Process SpawnPoolWorker-27:\n",
      "Process SpawnPoolWorker-28:\n"
     ]
    },
    {
     "ename": "KeyboardInterrupt",
     "evalue": "",
     "output_type": "error",
     "traceback": [
      "\u001b[0;31m---------------------------------------------------------------------------\u001b[0m",
      "\u001b[0;31mKeyboardInterrupt\u001b[0m                         Traceback (most recent call last)",
      "Cell \u001b[0;32mIn[14], line 17\u001b[0m\n\u001b[1;32m     14\u001b[0m start_time \u001b[38;5;241m=\u001b[39m time\u001b[38;5;241m.\u001b[39mperf_counter()\n\u001b[1;32m     16\u001b[0m \u001b[38;5;28;01mwith\u001b[39;00m multiprocessing\u001b[38;5;241m.\u001b[39mPool(pool_size) \u001b[38;5;28;01mas\u001b[39;00m pool:\n\u001b[0;32m---> 17\u001b[0m     results \u001b[38;5;241m=\u001b[39m pool\u001b[38;5;241m.\u001b[39mmap(square, numbers)\n\u001b[1;32m     19\u001b[0m end_time \u001b[38;5;241m=\u001b[39m time\u001b[38;5;241m.\u001b[39mperf_counter()\n\u001b[1;32m     20\u001b[0m \u001b[38;5;28mprint\u001b[39m(\u001b[38;5;124mf\u001b[39m\u001b[38;5;124m\"\u001b[39m\u001b[38;5;124mPool size: \u001b[39m\u001b[38;5;132;01m{\u001b[39;00mpool_size\u001b[38;5;132;01m}\u001b[39;00m\u001b[38;5;124m, Results: \u001b[39m\u001b[38;5;132;01m{\u001b[39;00mresults\u001b[38;5;132;01m}\u001b[39;00m\u001b[38;5;124m\"\u001b[39m)\n",
      "File \u001b[0;32m~/anaconda3/lib/python3.11/multiprocessing/pool.py:367\u001b[0m, in \u001b[0;36mPool.map\u001b[0;34m(self, func, iterable, chunksize)\u001b[0m\n\u001b[1;32m    362\u001b[0m \u001b[38;5;28;01mdef\u001b[39;00m \u001b[38;5;21mmap\u001b[39m(\u001b[38;5;28mself\u001b[39m, func, iterable, chunksize\u001b[38;5;241m=\u001b[39m\u001b[38;5;28;01mNone\u001b[39;00m):\n\u001b[1;32m    363\u001b[0m \u001b[38;5;250m    \u001b[39m\u001b[38;5;124;03m'''\u001b[39;00m\n\u001b[1;32m    364\u001b[0m \u001b[38;5;124;03m    Apply `func` to each element in `iterable`, collecting the results\u001b[39;00m\n\u001b[1;32m    365\u001b[0m \u001b[38;5;124;03m    in a list that is returned.\u001b[39;00m\n\u001b[1;32m    366\u001b[0m \u001b[38;5;124;03m    '''\u001b[39;00m\n\u001b[0;32m--> 367\u001b[0m     \u001b[38;5;28;01mreturn\u001b[39;00m \u001b[38;5;28mself\u001b[39m\u001b[38;5;241m.\u001b[39m_map_async(func, iterable, mapstar, chunksize)\u001b[38;5;241m.\u001b[39mget()\n",
      "File \u001b[0;32m~/anaconda3/lib/python3.11/multiprocessing/pool.py:768\u001b[0m, in \u001b[0;36mApplyResult.get\u001b[0;34m(self, timeout)\u001b[0m\n\u001b[1;32m    767\u001b[0m \u001b[38;5;28;01mdef\u001b[39;00m \u001b[38;5;21mget\u001b[39m(\u001b[38;5;28mself\u001b[39m, timeout\u001b[38;5;241m=\u001b[39m\u001b[38;5;28;01mNone\u001b[39;00m):\n\u001b[0;32m--> 768\u001b[0m     \u001b[38;5;28mself\u001b[39m\u001b[38;5;241m.\u001b[39mwait(timeout)\n\u001b[1;32m    769\u001b[0m     \u001b[38;5;28;01mif\u001b[39;00m \u001b[38;5;129;01mnot\u001b[39;00m \u001b[38;5;28mself\u001b[39m\u001b[38;5;241m.\u001b[39mready():\n\u001b[1;32m    770\u001b[0m         \u001b[38;5;28;01mraise\u001b[39;00m \u001b[38;5;167;01mTimeoutError\u001b[39;00m\n",
      "File \u001b[0;32m~/anaconda3/lib/python3.11/multiprocessing/pool.py:765\u001b[0m, in \u001b[0;36mApplyResult.wait\u001b[0;34m(self, timeout)\u001b[0m\n\u001b[1;32m    764\u001b[0m \u001b[38;5;28;01mdef\u001b[39;00m \u001b[38;5;21mwait\u001b[39m(\u001b[38;5;28mself\u001b[39m, timeout\u001b[38;5;241m=\u001b[39m\u001b[38;5;28;01mNone\u001b[39;00m):\n\u001b[0;32m--> 765\u001b[0m     \u001b[38;5;28mself\u001b[39m\u001b[38;5;241m.\u001b[39m_event\u001b[38;5;241m.\u001b[39mwait(timeout)\n",
      "File \u001b[0;32m~/anaconda3/lib/python3.11/threading.py:622\u001b[0m, in \u001b[0;36mEvent.wait\u001b[0;34m(self, timeout)\u001b[0m\n\u001b[1;32m    620\u001b[0m signaled \u001b[38;5;241m=\u001b[39m \u001b[38;5;28mself\u001b[39m\u001b[38;5;241m.\u001b[39m_flag\n\u001b[1;32m    621\u001b[0m \u001b[38;5;28;01mif\u001b[39;00m \u001b[38;5;129;01mnot\u001b[39;00m signaled:\n\u001b[0;32m--> 622\u001b[0m     signaled \u001b[38;5;241m=\u001b[39m \u001b[38;5;28mself\u001b[39m\u001b[38;5;241m.\u001b[39m_cond\u001b[38;5;241m.\u001b[39mwait(timeout)\n\u001b[1;32m    623\u001b[0m \u001b[38;5;28;01mreturn\u001b[39;00m signaled\n",
      "File \u001b[0;32m~/anaconda3/lib/python3.11/threading.py:320\u001b[0m, in \u001b[0;36mCondition.wait\u001b[0;34m(self, timeout)\u001b[0m\n\u001b[1;32m    318\u001b[0m \u001b[38;5;28;01mtry\u001b[39;00m:    \u001b[38;5;66;03m# restore state no matter what (e.g., KeyboardInterrupt)\u001b[39;00m\n\u001b[1;32m    319\u001b[0m     \u001b[38;5;28;01mif\u001b[39;00m timeout \u001b[38;5;129;01mis\u001b[39;00m \u001b[38;5;28;01mNone\u001b[39;00m:\n\u001b[0;32m--> 320\u001b[0m         waiter\u001b[38;5;241m.\u001b[39macquire()\n\u001b[1;32m    321\u001b[0m         gotit \u001b[38;5;241m=\u001b[39m \u001b[38;5;28;01mTrue\u001b[39;00m\n\u001b[1;32m    322\u001b[0m     \u001b[38;5;28;01melse\u001b[39;00m:\n",
      "\u001b[0;31mKeyboardInterrupt\u001b[0m: "
     ]
    }
   ],
   "source": [
    "# 8.Create a Python program that uses multiprocessing.Pool to compute the square of numbers from 1 to 10 in \n",
    "# parallel. Measure the time taken to perform this computation using a pool of different sizes (e.g., 2, 4, 8 \n",
    "# processes)\n",
    "\n",
    "import multiprocessing\n",
    "import time\n",
    "def square(num):\n",
    "    return num * num\n",
    "\n",
    "if __name__ == \"__main__\":\n",
    "    numbers = list(range(1, 11))\n",
    "\n",
    "    for pool_size in [2, 4, 8]:\n",
    "        start_time = time.perf_counter()\n",
    "\n",
    "        with multiprocessing.Pool(pool_size) as pool:\n",
    "            results = pool.map(square, numbers)\n",
    "\n",
    "        end_time = time.perf_counter()\n",
    "        print(f\"Pool size: {pool_size}, Results: {results}\")\n",
    "        print(f\"Time taken with pool size {pool_size}: {round(end_time - start_time, 4)} seconds\\n\")\n",
    "\n",
    "# output:\n",
    "# Pool size: 2, Results: [1, 4, 9, 16, 25, 36, 49, 64, 81, 100]\n",
    "# Time taken with pool size 2: 0.0675 seconds\n",
    "# Pool size: 4, Results: [1, 4, 9, 16, 25, 36, 49, 64, 81, 100]\n",
    "# Time taken with pool size 4: 0.0422 seconds\n",
    "# Pool size: 8, Results: [1, 4, 9, 16, 25, 36, 49, 64, 81, 100]\n",
    "# Time taken with pool size 8: 0.0513 seconds\n",
    "\n"
   ]
  },
  {
   "cell_type": "code",
   "execution_count": null,
   "id": "0e62dbe1",
   "metadata": {},
   "outputs": [],
   "source": []
  },
  {
   "cell_type": "code",
   "execution_count": null,
   "id": "95e01d8a",
   "metadata": {},
   "outputs": [],
   "source": []
  }
 ],
 "metadata": {
  "kernelspec": {
   "display_name": "Python 3 (ipykernel)",
   "language": "python",
   "name": "python3"
  },
  "language_info": {
   "codemirror_mode": {
    "name": "ipython",
    "version": 3
   },
   "file_extension": ".py",
   "mimetype": "text/x-python",
   "name": "python",
   "nbconvert_exporter": "python",
   "pygments_lexer": "ipython3",
   "version": "3.11.5"
  }
 },
 "nbformat": 4,
 "nbformat_minor": 5
}
