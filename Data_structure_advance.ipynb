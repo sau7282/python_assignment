{
 "cells": [
  {
   "cell_type": "code",
   "execution_count": 134,
   "id": "82c79ff0",
   "metadata": {},
   "outputs": [
    {
     "name": "stdout",
     "output_type": "stream",
     "text": [
      "enter the string asdffkl\n",
      "after reversing the string::  lkffdsa\n"
     ]
    }
   ],
   "source": [
    "# 1.write a code to reverse a string\n",
    "\n",
    "def reverse_string(str1):\n",
    "    return str1[::-1]\n",
    "str1=input(\"enter the string \")\n",
    "print(\"after reversing the string:: \", reverse_string(str1))\n",
    "\n",
    "# output:\n",
    "# enter the string asdffkl\n",
    "# after reversing the string::  lkffdsa"
   ]
  },
  {
   "cell_type": "code",
   "execution_count": 8,
   "id": "3bf73e66",
   "metadata": {},
   "outputs": [
    {
     "name": "stdout",
     "output_type": "stream",
     "text": [
      "enter the string hjfj\n",
      "The number of vowels are:: 0\n"
     ]
    }
   ],
   "source": [
    "# 2. Write a code to count the number of vowels in a string.\n",
    "\n",
    "def count_vowel(str1):\n",
    "    li=['a','e','i','o','u','A','E','I','O','U']\n",
    "    count=0\n",
    "    for i in str1:\n",
    "        if i in li:\n",
    "            count+=1\n",
    "    return count\n",
    "\n",
    "str1=input(\"enter the string \")\n",
    "print(\"The number of vowels are::\",count_vowel(str1))\n",
    "# output:\n",
    "# enter the string hjfj\n",
    "# The number of vowels are:: 0"
   ]
  },
  {
   "cell_type": "code",
   "execution_count": 11,
   "id": "6fd26a27",
   "metadata": {},
   "outputs": [
    {
     "name": "stdout",
     "output_type": "stream",
     "text": [
      "enter the string opll\n",
      "The given string is not palindrome\n"
     ]
    }
   ],
   "source": [
    "# 3. Write a code to check if a given string is a palindrome or not.\n",
    "\n",
    "def check_palindrome(str1):\n",
    "    if str1==str1[::-1]:\n",
    "        print(\"The given string is palindrome\")\n",
    "    else:\n",
    "        print(\"The given string is not palindrome\")\n",
    "\n",
    "str1=input(\"enter the string \")\n",
    "check_palindrome(str1)\n",
    "\n",
    "# output:\n",
    "# enter the string opll\n",
    "# The given string is not palindrome"
   ]
  },
  {
   "cell_type": "code",
   "execution_count": 14,
   "id": "a1b315d5",
   "metadata": {},
   "outputs": [
    {
     "name": "stdout",
     "output_type": "stream",
     "text": [
      "Enter the string1. asd\n",
      "Enter the string2. dsa\n",
      "The given two strings are anagrams\n"
     ]
    }
   ],
   "source": [
    "# 4.Write a code to check if two given strings are anagrams of each other.\n",
    "\n",
    "def check_anagrams(str1,str2):\n",
    "    if len(str1)!=len(str2):\n",
    "        print(\"The given two strings are not anagrams\")\n",
    "        return\n",
    "    dict1={}\n",
    "    for i in str1:\n",
    "        if i in dict1.keys():\n",
    "            dict1[i]+=1\n",
    "        else:\n",
    "            dict1[i]=1\n",
    "    for i in str2:\n",
    "        if i not in dict1.keys() or dict1[i]<=0:\n",
    "            print(\"The given two strings are not anagrams\")\n",
    "            return\n",
    "        else:\n",
    "            dict1[i]-=1\n",
    "    for i in dict1.keys():\n",
    "        if dict1[i]!=0:\n",
    "            print(\"The given two strings are not anagrams\")\n",
    "            return\n",
    "    print(\"The given two strings are anagrams\")\n",
    "\n",
    "str1=input(\"Enter the string1. \")\n",
    "str2=input(\"Enter the string2. \")\n",
    "check_anagrams(str1,str2)\n",
    " \n",
    "# output:\n",
    "# Enter the string1. asd\n",
    "# Enter the string2. dsa\n",
    "# The given two strings are anagrams"
   ]
  },
  {
   "cell_type": "code",
   "execution_count": 18,
   "id": "135271d6",
   "metadata": {},
   "outputs": [
    {
     "name": "stdout",
     "output_type": "stream",
     "text": [
      "Enter the main string  ghjkghjlghjkghyi\n",
      "Eneter the sub string  g\n",
      "All occurrences of substring: [0, 4, 8, 12]\n"
     ]
    }
   ],
   "source": [
    "# 5.Write a code to find all occurrences of a given substring within another string.\n",
    "\n",
    "def find_all_occurrences_slicing(main_str, sub_str):\n",
    "    sub_len = len(sub_str)\n",
    "    indices = []\n",
    "    for i in range(len(main_str) - sub_len + 1):\n",
    "        if main_str[i:i + sub_len] == sub_str:\n",
    "            indices.append(i)\n",
    "    return indices\n",
    "\n",
    "\n",
    "main_string = input(\"Enter the main string  \")\n",
    "substring = input(\"Eneter the sub string  \")\n",
    "\n",
    "occurrences = find_all_occurrences_slicing(main_string, substring)\n",
    "print(\"All occurrences of substring:\", occurrences)\n",
    "\n",
    "\n",
    "# output:\n",
    "# Enter the main string  ghjkghjlghjkghyi\n",
    "# Eneter the sub string  g\n",
    "# All occurrences of substring: [0, 4, 8, 12]"
   ]
  },
  {
   "cell_type": "code",
   "execution_count": 23,
   "id": "f809a782",
   "metadata": {},
   "outputs": [
    {
     "name": "stdout",
     "output_type": "stream",
     "text": [
      "Enter the string ::  aassdddk\n",
      "The string after compression is :: a2s2d3k\n"
     ]
    }
   ],
   "source": [
    "# 6.Write a code to perform basic string compression using the counts of repeated characters.\n",
    "\n",
    "def string_compression(str1):\n",
    "    dict1={}\n",
    "    for i in str1:\n",
    "        if i in dict1.keys():\n",
    "            dict1[i]+=1\n",
    "        else:\n",
    "            dict1[i]=1\n",
    "    ans=\"\"\n",
    "    for i in str1:\n",
    "        if i in dict1.keys():\n",
    "            ans+=i\n",
    "            if dict1[i]!=1:\n",
    "                ans+=str(dict1[i])\n",
    "            del dict1[i]\n",
    "    print(\"The string after compression is ::\", ans)\n",
    "\n",
    "str1=input(\"Enter the string ::  \")\n",
    "string_compression(str1)\n",
    "\n",
    "# output:\n",
    "# Enter the string ::  aaasssdddq\n",
    "# The string after compression is :: a3s3d3q"
   ]
  },
  {
   "cell_type": "code",
   "execution_count": 28,
   "id": "4380937c",
   "metadata": {},
   "outputs": [
    {
     "name": "stdout",
     "output_type": "stream",
     "text": [
      "Enter the string::  gghhjja\n",
      "There are some duplicate characters\n"
     ]
    }
   ],
   "source": [
    "# 7. Write a code to determine if a string has all unique characters.\n",
    "\n",
    "def check_unique_char(str1):\n",
    "    dict1={}\n",
    "    for i in str1:\n",
    "        if i in dict1.keys():\n",
    "            print(\"There are some duplicate characters\")\n",
    "            return\n",
    "        else:\n",
    "            dict1[i]=1\n",
    "    print(\"There is no duplicate character\")\n",
    "\n",
    "str1=input(\"Enter the string::  \")\n",
    "check_unique_char(str1)\n",
    "\n",
    "# output:\n",
    "# Enter the string::  asdff\n",
    "# There are some duplicate characters f"
   ]
  },
  {
   "cell_type": "code",
   "execution_count": 32,
   "id": "ddde5f7c",
   "metadata": {},
   "outputs": [
    {
     "name": "stdout",
     "output_type": "stream",
     "text": [
      "Enter the string ::  ASR\n",
      "The converted strig is ::  asr\n"
     ]
    }
   ],
   "source": [
    "# 8.Write a code to convert a given string to uppercase or lowercase.\n",
    "def convert_string(str1):\n",
    "    if len(str1)==0:\n",
    "        print(\"Your input is empty\")\n",
    "        return \n",
    "    flag_lower=False\n",
    "    if str1[0]<='z' and str1[0]>='a':\n",
    "        flag_lower=True\n",
    "    ans=\"\"\n",
    "    if flag_lower:\n",
    "        for i in str1:\n",
    "            ans+=chr(ord(i)-32)\n",
    "    else:\n",
    "        for i in str1:\n",
    "            ans+=chr(ord(i)+32)\n",
    "    print(\"The converted strig is :: \",ans)\n",
    "\n",
    "str1=input(\"Enter the string ::  \")\n",
    "convert_string(str1)\n",
    "\n",
    "# output:\n",
    "# Enter the string ::  ASR\n",
    "# The converted strig is ::  asr"
   ]
  },
  {
   "cell_type": "code",
   "execution_count": 33,
   "id": "f17781e6",
   "metadata": {},
   "outputs": [
    {
     "name": "stdout",
     "output_type": "stream",
     "text": [
      "Enter the sentence ::  ahk gjk hjjk hjk\n",
      "The number of words are  4\n"
     ]
    }
   ],
   "source": [
    "# 9. Write a code to count the number of words in a string.\n",
    "\n",
    "def number_of_words(str1):\n",
    "    count=0\n",
    "    li=str1.split(\" \")\n",
    "    count=len(li)\n",
    "    print(\"The number of words are \",count)\n",
    "\n",
    "str1=input(\"Enter the sentence ::  \")\n",
    "number_of_words(str1)\n",
    "\n",
    "# output:\n",
    "# Enter the sentence ::  ahk gjk hjjk hjk\n",
    "# The number of words are  4"
   ]
  },
  {
   "cell_type": "code",
   "execution_count": 37,
   "id": "cac6e93b",
   "metadata": {},
   "outputs": [
    {
     "name": "stdout",
     "output_type": "stream",
     "text": [
      "Enter the first string :: saurabh\n",
      "Enter the second string :: kumar\n",
      "The string after concatenating is  saurabhkumar\n"
     ]
    }
   ],
   "source": [
    "# 10. Write a code to concatenate two strings without using the + operator.\n",
    "\n",
    "def concatenate_string(str1,str2):\n",
    "    str3=f\"{str1}{str2}\"\n",
    "    print(\"The string after concatenating is \",str3)\n",
    "\n",
    "str1=input(\"Enter the first string :: \")\n",
    "str2=input(\"Enter the second string :: \")\n",
    "concatenate_string(str1,str2)\n",
    "\n",
    "# output:\n",
    "# Enter the first string :: saurabh\n",
    "# Enter the second string :: kumar\n",
    "# The string after concatenating is  saurabhkumar"
   ]
  },
  {
   "cell_type": "code",
   "execution_count": 136,
   "id": "46371742",
   "metadata": {},
   "outputs": [
    {
     "name": "stdout",
     "output_type": "stream",
     "text": [
      "Enter the element1 1 1 2 3 1\n",
      "Enter the element which you want to remove 1\n",
      "Before removing elements ::  [1, 1, 1, 2, 3, 1]\n",
      "After removing elements ::  [2, 3]\n"
     ]
    }
   ],
   "source": [
    "# 11. Write a code to remove all occurrences of a specific element from a list.\n",
    "\n",
    "def remove_ele(li,x):\n",
    "    print(\"Before removing elements :: \",li)\n",
    "    li2=[item for item in li if item != x]\n",
    "    print(\"After removing elements :: \",li2)\n",
    "\n",
    "li=[int(x) for x in list(input(\"Enter the element\").split(\" \"))]\n",
    "x=int(input(\"Enter the element which you want to remove \"))\n",
    "remove_ele(li,x)\n",
    "\n",
    "# output:\n",
    "# Enter the element1 1 1 2 3 1\n",
    "# Enter the element which you want to remove 1\n",
    "# Before removing elements ::  [1, 1, 1, 2, 3, 1]\n",
    "# After removing elements ::  [2, 3]"
   ]
  },
  {
   "cell_type": "code",
   "execution_count": 71,
   "id": "df976e02",
   "metadata": {},
   "outputs": [
    {
     "name": "stdout",
     "output_type": "stream",
     "text": [
      "Enter the element of list 1 2 3 4 5\n",
      "The second largest value is  4\n"
     ]
    }
   ],
   "source": [
    "# 12.Implement a code to find the second largest number in a given list of integers.\n",
    "\n",
    "def second_max(li):\n",
    "    max1=float(\"-inf\")\n",
    "    max2=float(\"-inf\")\n",
    "    for i in li:\n",
    "        if i>max1:\n",
    "            max2=max1\n",
    "            max1=i\n",
    "        if max2<i and max1!=i:\n",
    "            max2=i\n",
    "    print(\"The second largest value is \",max2)\n",
    "\n",
    "li=[int(x) for x in list(input(\"Enter the element of list \").split(\" \"))]\n",
    "second_max(li)\n",
    "\n",
    "# output:\n",
    "# Enter the element of list 1 2 3 4 5\n",
    "# The second largest value is  4"
   ]
  },
  {
   "cell_type": "code",
   "execution_count": 73,
   "id": "5ceb07bd",
   "metadata": {},
   "outputs": [
    {
     "name": "stdout",
     "output_type": "stream",
     "text": [
      "Eneter the elements of list1 1 1 2 2 3 4 4 5\n",
      "the elements are as:  {1: 3, 2: 2, 3: 1, 4: 2, 5: 1}\n"
     ]
    }
   ],
   "source": [
    "# 13. Create a code to count the occurrences of each element in a list and return a dictionary with elements as keys and their counts \n",
    "# as values.\n",
    "\n",
    "def count_element(li):\n",
    "    dict1={}\n",
    "    for i in li:\n",
    "        if i in dict1.keys():\n",
    "            dict1[i]+=1\n",
    "        else:\n",
    "            dict1[i]=1\n",
    "    return dict1\n",
    "\n",
    "li=[int(x) for x in list(input(\"Eneter the elements of list\").split(\" \"))]\n",
    "print(\"the elements are as: \",count_element(li))\n",
    "\n",
    "# output:\n",
    "# Eneter the elements of list1 1 1 2 2 3 4 4 5\n",
    "# the elements are as:  {1: 3, 2: 2, 3: 1, 4: 2, 5: 1}"
   ]
  },
  {
   "cell_type": "code",
   "execution_count": 76,
   "id": "ee2f4bf0",
   "metadata": {},
   "outputs": [
    {
     "name": "stdout",
     "output_type": "stream",
     "text": [
      "Enter the element of list 1 2 3 4 5\n",
      "The list after reversing is  [5, 4, 3, 2, 1]\n"
     ]
    }
   ],
   "source": [
    "# 14.Write a code to reverse a list in-place without using any built-in reverse functions.\n",
    "\n",
    "def reverse_list(li):\n",
    "    start=0\n",
    "    end=len(li)-1\n",
    "    while start<=end:\n",
    "        li[start],li[end]=li[end],li[start]\n",
    "        start+=1\n",
    "        end-=1\n",
    "    return li\n",
    "\n",
    "li=[int(x) for x in list(input(\"Enter the element of list \").split(\" \"))]\n",
    "print(\"The list after reversing is \",reverse_list(li))\n",
    "\n",
    "# output:\n",
    "# Enter the element of list 1 2 3 4 5\n",
    "# The list after reversing is  [5, 4, 3, 2, 1]"
   ]
  },
  {
   "cell_type": "code",
   "execution_count": 77,
   "id": "6cc157a2",
   "metadata": {},
   "outputs": [
    {
     "name": "stdout",
     "output_type": "stream",
     "text": [
      "Enter the elements of list1 1 2 2 2 3 4 5 5\n",
      "The array after the removing the duplciates is  [1, 2, 3, 4, 5]\n"
     ]
    }
   ],
   "source": [
    "# 15.Implement a code to find and remove duplicates from a list while preserving the original order of elements.\n",
    "\n",
    "def remove_duplicate(li):\n",
    "    result=[]\n",
    "    for i in li:\n",
    "        if i not in result:\n",
    "            result.append(i)\n",
    "    return result\n",
    "\n",
    "li=[int(x) for x in list(input(\"Enter the elements of list\").split(\" \"))]\n",
    "print(\"The array after the removing the duplciates is \",remove_duplicate(li))\n",
    "\n",
    "# output:\n",
    "# Enter the elements of list1 1 2 2 2 3 4 5 5\n",
    "# The array after the removing the duplciates is  [1, 2, 3, 4, 5]"
   ]
  },
  {
   "cell_type": "code",
   "execution_count": 79,
   "id": "4765d9ef",
   "metadata": {},
   "outputs": [
    {
     "name": "stdout",
     "output_type": "stream",
     "text": [
      "Enter the element of array 4 5 6 2 3 9\n",
      "The array is not sorted in ascending or descending order\n"
     ]
    }
   ],
   "source": [
    "# 16. Create a code to check if a given list is sorted (either in ascending or descending order) or not.\n",
    "\n",
    "def check_sorted(li):\n",
    "    asc=False\n",
    "    dsc=False\n",
    "    n=len(li)\n",
    "    for i in range(1,n):\n",
    "        if li[i-1]>li[i]:\n",
    "            asc=True\n",
    "        else:\n",
    "            dsc=True\n",
    "    if asc and dsc:\n",
    "        print(\"The array is not sorted in ascending or descending order\")\n",
    "        return\n",
    "    print(\"The array is sorted\")\n",
    "\n",
    "li=[int(x) for x in list(input(\"Enter the element of array \").split(\" \"))]\n",
    "check_sorted(li)\n",
    "\n",
    "# output:\n",
    "# Enter the element of array 4 5 6 2 3 9\n",
    "# The array is not sorted in ascending or descending order"
   ]
  },
  {
   "cell_type": "code",
   "execution_count": 80,
   "id": "0c0d4778",
   "metadata": {},
   "outputs": [
    {
     "name": "stdout",
     "output_type": "stream",
     "text": [
      "Eneter the elements of list1 1 3 5\n",
      "Eneter the elements of list2 2 4 6 8\n",
      "After the merging the both array  [1, 2, 3, 4, 5, 6, 8]\n"
     ]
    }
   ],
   "source": [
    "# 17.Write a code to merge two sorted lists into a single sorted list.\n",
    "\n",
    "def merge_list(li1,li2):\n",
    "    i=0\n",
    "    j=0\n",
    "    n=len(li1)\n",
    "    m=len(li2)\n",
    "    k=0\n",
    "    li3=[0 for i in range(n+m)]\n",
    "    while i<n and j<m:\n",
    "        if li1[i]<=li2[j]:\n",
    "            li3[k]=li1[i]\n",
    "            i+=1\n",
    "            k+=1\n",
    "        else:\n",
    "            li3[k]=li2[j]\n",
    "            j+=1\n",
    "            k+=1\n",
    "    while i<n:\n",
    "        li3[k]=li1[i]\n",
    "        i+=1\n",
    "        k+=1\n",
    "    while j<m:\n",
    "        li3[k]=li2[j]\n",
    "        j+=1\n",
    "        k+=1\n",
    "    return li3\n",
    "\n",
    "li1=[int(x) for x in list(input(\"Eneter the elements of list1 \").split(\" \"))]\n",
    "li2=[int(x) for x in list(input(\"Eneter the elements of list2 \").split(\" \"))]\n",
    "print(\"After the merging the both array \",merge_list(li1,li2))\n",
    "\n",
    "# output:\n",
    "# Eneter the elements of list1 1 3 5\n",
    "# Eneter the elements of list2 2 4 6 8\n",
    "# After the merging the both array  [1, 2, 3, 4, 5, 6, 8]"
   ]
  },
  {
   "cell_type": "code",
   "execution_count": 84,
   "id": "95219161",
   "metadata": {},
   "outputs": [
    {
     "name": "stdout",
     "output_type": "stream",
     "text": [
      "Enter the element of list1 1 1 1 2 2 3\n",
      "Enter the element of list2 1 1 1 1 1 2 2 2 2 3\n",
      "The intersection of two lists are :  [1, 2, 3]\n"
     ]
    }
   ],
   "source": [
    "# 18.Implement a code to find the intersection of two given lists.\n",
    "\n",
    "def intersection(li1,li2):\n",
    "    li3=[]\n",
    "    i=0\n",
    "    j=0\n",
    "    m=len(li1)\n",
    "    n=len(li2)\n",
    "    while i<m and j<n:\n",
    "        if li1[i]==li2[j]:\n",
    "            if li3 and li1[i]!=li3[-1]:\n",
    "                li3.append(li1[i])\n",
    "            elif len(li3)==0:\n",
    "                li3.append(li1[i])\n",
    "            i+=1\n",
    "            j+=1\n",
    "        elif li1[i]<li2[j]:\n",
    "            i+=1\n",
    "        else:\n",
    "            j+=1\n",
    "    return li3\n",
    "li1=[int(x) for x in list(input(\"Enter the element of list1 \").split())]\n",
    "li2=[int(x) for x in list(input(\"Enter the element of list2 \").split())]\n",
    "print(\"The intersection of two lists are : \", intersection(li1,li2))\n",
    "\n",
    "# output:\n",
    "# Enter the element of list1 1 1 1 2 2 3\n",
    "# Enter the element of list2 1 1 1 1 1 2 2 2 2 3\n",
    "# The intersection of two lists are :  [1, 2, 3]"
   ]
  },
  {
   "cell_type": "code",
   "execution_count": 87,
   "id": "aa728599",
   "metadata": {},
   "outputs": [
    {
     "name": "stdout",
     "output_type": "stream",
     "text": [
      "Enter the elements of list1 1 3 4 5 6\n",
      "Enter the elements of list2 2 2 3 4 6 7\n",
      "The union of both lists are ::  [1, 2, 3, 4, 5, 6, 7]\n"
     ]
    }
   ],
   "source": [
    "# 19.Create a code to find the union of two lists without duplicates.\n",
    "\n",
    "def findUnion(arr1,arr2):\n",
    "        i=0\n",
    "        j=0\n",
    "        n=len(arr1)\n",
    "        m=len(arr2)\n",
    "        arr3=[]\n",
    "        while i<n and j<m:\n",
    "            if i>0 and arr1[i]==arr1[i-1]:\n",
    "                i+=1\n",
    "            elif j>0 and arr2[j]==arr2[j-1]:\n",
    "                j+=1\n",
    "            elif arr1[i]==arr2[j]:\n",
    "                arr3.append(arr1[i])\n",
    "                i+=1\n",
    "                j+=1\n",
    "            elif arr1[i]<arr2[j]:\n",
    "                arr3.append(arr1[i])\n",
    "                i+=1\n",
    "            else:\n",
    "                arr3.append(arr2[j])\n",
    "                j+=1\n",
    "        while i<n:\n",
    "            if arr3 and arr3[-1]==arr1[i]:\n",
    "                i+=1\n",
    "            else:\n",
    "                arr3.append(arr1[i])\n",
    "                i+=1\n",
    "        while j<m:\n",
    "            if arr3 and arr3[-1]==arr2[j]:\n",
    "                j+=1\n",
    "            else:\n",
    "                arr3.append(arr2[j])\n",
    "                j+=1\n",
    "        return arr3\n",
    "\n",
    "arr1=[int(x) for x in list(input(\"Enter the elements of list1 \").split(\" \"))]\n",
    "arr2=[int(x) for x in list(input(\"Enter the elements of list2 \").split(\" \"))]    \n",
    "print(\"The union of both lists are :: \", findUnion(arr1,arr2))\n",
    "\n",
    "# output:\n",
    "# Enter the elements of list1 1 3 4 5 6\n",
    "# Enter the elements of list2 2 2 3 4 6 7\n",
    "# The union of both lists are ::  [1, 2, 3, 4, 5, 6, 7]"
   ]
  },
  {
   "cell_type": "code",
   "execution_count": 88,
   "id": "c67f5115",
   "metadata": {},
   "outputs": [
    {
     "name": "stdout",
     "output_type": "stream",
     "text": [
      "Enter the element of list :: 1 2 3 4 5\n",
      "The list after shuffling is ::  [2, 1, 4, 3, 5]\n"
     ]
    }
   ],
   "source": [
    "# 20.Write a code to shuffle a given list randomly without using any built-in shuffle functions.\n",
    "\n",
    "import random\n",
    "def shuffle_list(li):\n",
    "    n = len(li)\n",
    "    for i in range(n-1, 0, -1):\n",
    "        j = random.randint(0, i)\n",
    "        li[i], li[j] = li[j], li[i]\n",
    "    return li\n",
    "\n",
    "li=[int(x) for x in list(input(\"Enter the element of list :: \").split(\" \"))]\n",
    "print(\"The list after shuffling is :: \",shuffle_list(li))\n",
    "\n",
    "# output:\n",
    "# Enter the element of list :: 1 2 3 4 5\n",
    "# The list after shuffling is ::  [2, 1, 4, 3, 5]"
   ]
  },
  {
   "cell_type": "code",
   "execution_count": 93,
   "id": "40642729",
   "metadata": {},
   "outputs": [
    {
     "name": "stdout",
     "output_type": "stream",
     "text": [
      "Enter the element of list :: 1 2 3 4 5 5\n",
      "Enter the element of list :: 1 2 3 4 5 6 7 8\n",
      "Common element of both tuples are ::  (1, 2, 3, 4, 5)\n"
     ]
    }
   ],
   "source": [
    "# 21. Write a code that takes two tuples as input and returns a new tuple containing elements that are common \n",
    "# to both input tuples.\n",
    "\n",
    "def common_ele(t1,t2):\n",
    "    t3=tuple(set(t1)&set(t2))\n",
    "    return t3\n",
    "t1=tuple([int(x) for x in list(input(\"Enter the element of list :: \").split(\" \"))])\n",
    "t2=tuple([int(x) for x in list(input(\"Enter the element of list :: \").split(\" \"))])\n",
    "print(\"Common element of both tuples are :: \",common_ele(t1,t2))\n",
    "\n",
    "# output:\n",
    "# Enter the element of list :: 1 2 3 4 5 5\n",
    "# Enter the element of list :: 1 2 3 4 5 6 7 8\n",
    "# Common element of both tuples are ::  (1, 2, 3, 4, 5)"
   ]
  },
  {
   "cell_type": "code",
   "execution_count": 100,
   "id": "93edf608",
   "metadata": {},
   "outputs": [
    {
     "name": "stdout",
     "output_type": "stream",
     "text": [
      "Enter the element of set1 :: 1,2,3,3,3,4,5\n",
      "Enter the element of set2 :: 1,2,3,4,5\n",
      "The intersection of both sets are ::  {1, 2, 3, 4, 5}\n"
     ]
    }
   ],
   "source": [
    "# 22. Create a code that prompts the user to enter two sets of integers separated by commas. Then, print the \n",
    "# intersection of these two sets.\n",
    "\n",
    "def intersection(s1,s2):\n",
    "    s3=set()\n",
    "# s3 = s1.intersection(s2)\n",
    "    for i in s1:\n",
    "        if i in s2:\n",
    "            s3.add(i)\n",
    "    return s3\n",
    "\n",
    "s1=set([int(x) for x in list(input(\"Enter the element of set1 :: \").split(\",\"))])\n",
    "s2=set([int(x) for x in list(input(\"Enter the element of set2 :: \").split(\",\"))])\n",
    "print(\"The intersection of both sets are :: \",intersection(s1,s2))\n",
    "\n",
    "# output:\n",
    "# Enter the element of set1 :: 1,2,3,3,3,4,5\n",
    "# Enter the element of set2 :: 1,2,3,4,5\n",
    "# The intersection of both sets are ::  {1, 2, 3, 4, 5}"
   ]
  },
  {
   "cell_type": "code",
   "execution_count": 102,
   "id": "56c11ead",
   "metadata": {},
   "outputs": [
    {
     "name": "stdout",
     "output_type": "stream",
     "text": [
      "Enter the element for tuple 1 1 2 3 4\n",
      "Enter the element for tuple 2 1 2 3 4\n",
      "After concatenating both tuple ::  (1, 2, 3, 4, 1, 2, 3, 4)\n"
     ]
    }
   ],
   "source": [
    "# 23.Write a code to concatenate two tuples. The function should take two tuples as input and return a new \n",
    "# tuple containing elements from both input tuples.\n",
    "\n",
    "def concatenate_tuple(t1,t2):\n",
    "    t3=t1+t2\n",
    "    return t3\n",
    "t1=tuple([int(x) for x in list(input(\"Enter the element for tuple 1 \").split(\" \"))])\n",
    "t2=tuple([int(x) for x in list(input(\"Enter the element for tuple 2 \").split(\" \"))])\n",
    "print(\"After concatenating both tuple :: \",concatenate_tuple(t1,t2))\n",
    "\n",
    "# output:\n",
    "# Enter the element for tuple 1 1 2 3 4\n",
    "# Enter the element for tuple 2 1 2 3 4\n",
    "# After concatenating both tuple ::  (1, 2, 3, 4, 1, 2, 3, 4)"
   ]
  },
  {
   "cell_type": "code",
   "execution_count": 107,
   "id": "093926b8",
   "metadata": {},
   "outputs": [
    {
     "name": "stdout",
     "output_type": "stream",
     "text": [
      "Enter the string for set1 aa bb cc dd\n",
      "Enter the string for set2 hh jj\n",
      "The results are as :: \n",
      "dd cc bb aa "
     ]
    }
   ],
   "source": [
    "# 24.Develop a code that prompts the user to input two sets of strings. Then, print the elements that are present \n",
    "# in the first set but not in the second set.\n",
    "\n",
    "def print_string(s1,s2):\n",
    "    for i in s1:\n",
    "        if i not in s2:\n",
    "            print(i,end =\" \")\n",
    "    return\n",
    "\n",
    "s1=set([x for x in list(input(\"Enter the string for set1 \").split(\" \"))])\n",
    "s2=set([x for x in list(input(\"Enter the string for set2 \").split(\" \"))])\n",
    "print(\"The results are as :: \")\n",
    "print_string(s1,s2)\n",
    "\n",
    "# output:\n",
    "# Enter the string for set1 aa bb cc dd\n",
    "# Enter the string for set2 hh jj\n",
    "# The results are as :: \n",
    "# dd cc bb aa "
   ]
  },
  {
   "cell_type": "code",
   "execution_count": 108,
   "id": "ab2d2820",
   "metadata": {},
   "outputs": [
    {
     "name": "stdout",
     "output_type": "stream",
     "text": [
      "Enter the elementts of tuple 1 2 3 4 5 6 7\n",
      "Enter the first number3\n",
      "Enter the second number6\n",
      "The number containing between 3 and 6 are \n",
      "(3, 4, 5, 6)\n"
     ]
    }
   ],
   "source": [
    "# 25.Create a code that takes a tuple and two integers as input. The function should return a new tuple containing \n",
    "# elements from the original tuple within the specified range of indices.\n",
    "\n",
    "def range_tuple(t1,a,b):\n",
    "    li=[]\n",
    "    for i in t1:\n",
    "        if i>=a and i<=b:\n",
    "            li.append(i)\n",
    "    return tuple(li)\n",
    "\n",
    "t1=tuple([int(x) for x in list(input(\"Enter the elementts of tuple \").split(\" \"))])\n",
    "a=int(input(\"Enter the first number\"))\n",
    "b=int(input(\"Enter the second number\"))\n",
    "print(f\"The number containing between {a} and {b} are \")\n",
    "print(range_tuple(t1,a,b))\n",
    "\n",
    "# output:\n",
    "# Enter the elementts of tuple 1 2 3 4 5 6 7\n",
    "# Enter the first number3\n",
    "# Enter the second number6\n",
    "# The number containing between 3 and 6 are \n",
    "# (3, 4, 5, 6)"
   ]
  },
  {
   "cell_type": "code",
   "execution_count": 110,
   "id": "34709d56",
   "metadata": {},
   "outputs": [
    {
     "name": "stdout",
     "output_type": "stream",
     "text": [
      "Enter the character of set1 a b h l o\n",
      "Enter the character of set2 a d f t o\n",
      "The union of both sets are :: \n",
      "{'f', 'l', 't', 'b', 'd', 'o', 'h', 'a'}\n"
     ]
    }
   ],
   "source": [
    "# 26.Write a code that prompts the user to input two sets of characters. Then, print the union of these two sets.\n",
    "\n",
    "def union_set(s1,s2):\n",
    "    s3=s1.union(s2)\n",
    "    print(s3)\n",
    "    \n",
    "s1=set([x for x in list(input(\"Enter the character of set1 \").split(\" \"))])\n",
    "s2=set([x for x in list(input(\"Enter the character of set2 \").split(\" \"))])\n",
    "print(\"The union of both sets are :: \")\n",
    "union_set(s1,s2)\n",
    "\n",
    "# output:\n",
    "# Enter the character of set1 a b h l o\n",
    "# Enter the character of set2 a d f t o\n",
    "# The union of both sets are :: \n",
    "# {'f', 'l', 't', 'b', 'd', 'o', 'h', 'a'}"
   ]
  },
  {
   "cell_type": "code",
   "execution_count": 111,
   "id": "ea7ef09d",
   "metadata": {},
   "outputs": [
    {
     "name": "stdout",
     "output_type": "stream",
     "text": [
      "Enter the elements of tuple 1 2 3 4 5 6\n",
      "The maximun of t1 is 6 and minimum of t1 is 1\n"
     ]
    }
   ],
   "source": [
    "# 27.Develop a code that takes a tuple of integers as input. The function should return the maximum and minimum \n",
    "# values from the tuple using tuple unpacking.\n",
    "\n",
    "def find_max_min(t1):\n",
    "    max_num=max(t1)\n",
    "    min_num=min(t1)\n",
    "    print(f\"The maximun of t1 is {max_num} and minimum of t1 is {min_num}\")\n",
    "    \n",
    "t1=tuple([int(x) for x in list(input(\"Enter the elements of tuple \").split(\" \"))])\n",
    "find_max_min(t1)\n",
    "\n",
    "# output:\n",
    "# Enter the elements of tuple 1 2 3 4 5 6\n",
    "# The maximun of t1 is 6 and minimum of t1 is 1"
   ]
  },
  {
   "cell_type": "code",
   "execution_count": 114,
   "id": "b3b2b167",
   "metadata": {},
   "outputs": [
    {
     "name": "stdout",
     "output_type": "stream",
     "text": [
      "Enter the element of set1 :: 1 2 3 4 5 6 7\n",
      "Enter the element of set2 :: 1 2 4 5 7 8 9 10\n",
      "Union of Set1 and Set2: {1, 2, 3, 4, 5, 6, 7, 8, 9, 10}\n",
      "Intersection of Set1 and Set2: {1, 2, 4, 5, 7}\n",
      "Difference of Set1 and Set2 (Set1 - Set2): {3, 6}\n",
      "Difference of Set2 and Set1 (Set2 - Set1): {8, 9, 10}\n"
     ]
    }
   ],
   "source": [
    "# 28.Create a code that defines two sets of integers. Then, print the union, intersection, and difference of \n",
    "# these two sets.\n",
    "\n",
    "def operation(set1,set2):\n",
    "    union_set = set1.union(set2)\n",
    "    print(\"Union of Set1 and Set2:\", union_set)\n",
    "    intersection_set = set1.intersection(set2)\n",
    "    print(\"Intersection of Set1 and Set2:\", intersection_set)\n",
    "    difference_set1_set2 = set1.difference(set2)\n",
    "    print(\"Difference of Set1 and Set2 (Set1 - Set2):\", difference_set1_set2)\n",
    "    difference_set2_set1 = set2.difference(set1)\n",
    "    print(\"Difference of Set2 and Set1 (Set2 - Set1):\", difference_set2_set1)\n",
    "\n",
    "s1=set([int(x) for x in list(input(\"Enter the element of set1 :: \").split(\" \"))])\n",
    "s2=set([int(x) for x in list(input(\"Enter the element of set2 :: \").split(\" \"))])\n",
    "operation(s1,s2)    \n",
    "\n",
    "# output:\n",
    "# Enter the element of set1 :: 1 2 3 4 5 6 7\n",
    "# Enter the element of set2 :: 1 2 4 5 7 8 9 10\n",
    "# Union of Set1 and Set2: {1, 2, 3, 4, 5, 6, 7, 8, 9, 10}\n",
    "# Intersection of Set1 and Set2: {1, 2, 4, 5, 7}\n",
    "# Difference of Set1 and Set2 (Set1 - Set2): {3, 6}\n",
    "# Difference of Set2 and Set1 (Set2 - Set1): {8, 9, 10}"
   ]
  },
  {
   "cell_type": "code",
   "execution_count": 116,
   "id": "8862bb72",
   "metadata": {},
   "outputs": [
    {
     "name": "stdout",
     "output_type": "stream",
     "text": [
      "Enter the element of tuple :: 1 1 1 1 2 3 4 5 1\n",
      "Enter the element for counting 1\n",
      "The count of element 1 in tuple are  5\n"
     ]
    }
   ],
   "source": [
    "# 29. Write a code that takes a tuple and an element as input. The function should return the count of occurrences \n",
    "# of the given element in the tuple.\n",
    "\n",
    "def count(t1,x):\n",
    "    count=0\n",
    "    for i in t1:\n",
    "        if i==x:\n",
    "            count+=1\n",
    "    print(f\"The count of element {x} in tuple are \",count)\n",
    "t1=tuple([int(x) for x in list(input(\"Enter the element of tuple :: \").split(\" \"))])\n",
    "x=int(input(\"Enter the element for counting \"))\n",
    "count(t1,x)\n",
    "\n",
    "# output:\n",
    "# Enter the element of tuple :: 1 1 1 1 2 3 4 5 1\n",
    "# Enter the element for counting 1\n",
    "# The count of element 1 in tuple are  5"
   ]
  },
  {
   "cell_type": "code",
   "execution_count": 118,
   "id": "4cf9066d",
   "metadata": {},
   "outputs": [
    {
     "name": "stdout",
     "output_type": "stream",
     "text": [
      "Enter the strings of set1 as sd iu pp bb\n",
      "Enter the strings of set2 bb pp as ff ul\n",
      "Symmetric difference of the two sets: {'ul', 'iu', 'sd', 'ff'}\n"
     ]
    }
   ],
   "source": [
    "# 30.Develop a code that prompts the user to input two sets of strings. Then, print the symmetric difference of \n",
    "# these two sets.\n",
    "\n",
    "def symm_diff(s1,s2):\n",
    "    set3 = s1.symmetric_difference(s2)\n",
    "    print(\"Symmetric difference of the two sets:\", set3)\n",
    "    \n",
    "s1=set([x for x in list(input(\"Enter the strings of set1 \").split(\" \"))])\n",
    "s2=set([x for x in list(input(\"Enter the strings of set2 \").split(\" \"))])\n",
    "symm_diff(s1,s2)\n",
    "\n",
    "# output:\n",
    "# Enter the strings of set1 as sd iu pp bb\n",
    "# Enter the strings of set2 bb pp as ff ul\n",
    "# Symmetric difference of the two sets: {'ul', 'iu', 'sd', 'ff'}"
   ]
  },
  {
   "cell_type": "code",
   "execution_count": 125,
   "id": "350a1b7d",
   "metadata": {
    "scrolled": true
   },
   "outputs": [
    {
     "name": "stdout",
     "output_type": "stream",
     "text": [
      "Enter the words ass ass hhh bbb bbb ass llo\n",
      "The frequency for those words are  {'ass': 3, 'hhh': 1, 'bbb': 2, 'llo': 1}\n"
     ]
    }
   ],
   "source": [
    "# 31.Write a code that takes a list of words as input and returns a dictionary where the keys are unique words \n",
    "# and the values are the frequencies of those words in the input list.\n",
    "\n",
    "def list_dict(li):\n",
    "    dict1={}\n",
    "    for i in li:\n",
    "        if i in dict1.keys():\n",
    "            dict1[i]+=1\n",
    "        else:\n",
    "            dict1[i]=1\n",
    "    print(\"The frequency for those words are \",dict1)\n",
    "li=[x for x in list(input(\"Enter the words \").split(\" \"))]\n",
    "list_dict(li)\n",
    "\n",
    "# output:\n",
    "# Enter the words ass ass hhh bbb bbb ass llo\n",
    "# The frequency for those words are  {'ass': 3, 'hhh': 1, 'bbb': 2, 'llo': 1}"
   ]
  },
  {
   "cell_type": "code",
   "execution_count": 128,
   "id": "5ed60c99",
   "metadata": {},
   "outputs": [
    {
     "name": "stdout",
     "output_type": "stream",
     "text": [
      "The final dictionary after merging is ::  {'a': 5, 'b': 10, 'c': 9, 'd': 2, 'e': 7}\n"
     ]
    }
   ],
   "source": [
    "# 32. Write a code that takes two dictionaries as input and merges them into a single dictionary. If there are \n",
    "# common keys, the values should be added together\n",
    "\n",
    "def merge_dict(dict1,dict2):\n",
    "    for i in dict2.keys():\n",
    "        if i in dict1.keys():\n",
    "            dict1[i]=dict1[i]+dict2[i]\n",
    "        else:\n",
    "            dict1[i]=dict2[i]\n",
    "    print(\"The final dictionary after merging is :: \",dict1)\n",
    "\n",
    "dict1={'a':5,'b':8,'c':9}\n",
    "dict2={'b':2,'d':2,'e':7}\n",
    "merge_dict(dict1,dict2)\n",
    "\n",
    "# output:\n",
    "# The final dictionary after merging is ::  {'a': 5, 'b': 10, 'c': 9, 'd': 2, 'e': 7}"
   ]
  },
  {
   "cell_type": "code",
   "execution_count": 129,
   "id": "6c189606",
   "metadata": {},
   "outputs": [
    {
     "name": "stdout",
     "output_type": "stream",
     "text": [
      "Retrieved value: 42\n",
      "Retrieved value for missing keys: None\n"
     ]
    }
   ],
   "source": [
    "# 33.Write a code to access a value in a nested dictionary. The function should take the dictionary and a list \n",
    "# of keys as input, and return the corresponding value. If any of the keys do not exist in the dictionary, the \n",
    "# function should return None.\n",
    "\n",
    "def get_nested_value(nested_dict, keys_list):\n",
    "    current_value = nested_dict\n",
    "    try:\n",
    "        for key in keys_list:\n",
    "            current_value = current_value[key]\n",
    "        return current_value\n",
    "    except KeyError:\n",
    "        return None\n",
    "\n",
    "if __name__ == \"__main__\":\n",
    "    nested_dict = {\n",
    "        'a': {\n",
    "            'b': {\n",
    "                'c': 42\n",
    "            }\n",
    "        }\n",
    "    }\n",
    "    keys_list = ['a', 'b', 'c']\n",
    "    value = get_nested_value(nested_dict, keys_list)\n",
    "    print(\"Retrieved value:\", value)  \n",
    "    keys_list_missing = ['a', 'b', 'd']\n",
    "    value_missing = get_nested_value(nested_dict, keys_list_missing)\n",
    "    print(\"Retrieved value for missing keys:\", value_missing)  \n",
    "# output:\n",
    "# Retrieved value: 42\n",
    "# Retrieved value for missing keys: None\n"
   ]
  },
  {
   "cell_type": "code",
   "execution_count": 132,
   "id": "8ae4dd94",
   "metadata": {},
   "outputs": [
    {
     "name": "stdout",
     "output_type": "stream",
     "text": [
      "Sorted dictionary in ascending order: {'banana': 2, 'apple': 5, 'mango': 7, 'orange': 9}\n"
     ]
    }
   ],
   "source": [
    "# 34.Write a code that takes a dictionary as input and returns a sorted version of it based on the values. \n",
    "# You can choose whether to sort in ascending or descending order.\n",
    "\n",
    "def sort_dict_by_values(input_dict, ascending=True):\n",
    "    sorted_items = sorted(input_dict.items(), key=lambda item: item[1], reverse=not ascending)\n",
    "    return dict(sorted_items)\n",
    "\n",
    "if __name__ == \"__main__\":\n",
    "    sample_dict = {'apple': 5, 'banana': 2, 'orange': 9, 'mango': 7}\n",
    "    sorted_dict_asc = sort_dict_by_values(sample_dict)\n",
    "    print(\"Sorted dictionary in ascending order:\", sorted_dict_asc)\n",
    "\n",
    "# output:\n",
    "# Sorted dictionary in ascending order: {'banana': 2, 'apple': 5, 'mango': 7, 'orange': 9}"
   ]
  },
  {
   "cell_type": "code",
   "execution_count": 133,
   "id": "cf02ceee",
   "metadata": {},
   "outputs": [
    {
     "name": "stdout",
     "output_type": "stream",
     "text": [
      "Inverted dictionary: {5: ['apple', 'orange'], 3: ['banana', 'grape'], 7: ['mango']}\n"
     ]
    }
   ],
   "source": [
    "# 35.Write a code that inverts a dictionary, swapping keys and values. Ensure that the inverted dictionary\n",
    "# correctly handles cases where multiple keys have the same value by storing the keys as a list in the inverted \n",
    "# dictionary.\n",
    "\n",
    "def invert_dictionary(input_dict):\n",
    "    inverted_dict = {}\n",
    "    for key, value in input_dict.items():\n",
    "        if value in inverted_dict:\n",
    "            inverted_dict[value].append(key)\n",
    "        else:\n",
    "            inverted_dict[value] = [key]\n",
    "    return inverted_dict\n",
    "\n",
    "if __name__ == \"__main__\":\n",
    "    sample_dict = {\n",
    "        'apple': 5,\n",
    "        'banana': 3,\n",
    "        'orange': 5,\n",
    "        'mango': 7,\n",
    "        'grape': 3\n",
    "    }\n",
    "    inverted_dict = invert_dictionary(sample_dict)\n",
    "    print(\"Inverted dictionary:\", inverted_dict)\n",
    "\n",
    "# output:\n",
    "# Inverted dictionary: {5: ['apple', 'orange'], 3: ['banana', 'grape'], 7: ['mango']}"
   ]
  },
  {
   "cell_type": "code",
   "execution_count": null,
   "id": "e0b90fdc",
   "metadata": {},
   "outputs": [],
   "source": []
  }
 ],
 "metadata": {
  "kernelspec": {
   "display_name": "Python 3 (ipykernel)",
   "language": "python",
   "name": "python3"
  },
  "language_info": {
   "codemirror_mode": {
    "name": "ipython",
    "version": 3
   },
   "file_extension": ".py",
   "mimetype": "text/x-python",
   "name": "python",
   "nbconvert_exporter": "python",
   "pygments_lexer": "ipython3",
   "version": "3.11.5"
  }
 },
 "nbformat": 4,
 "nbformat_minor": 5
}
