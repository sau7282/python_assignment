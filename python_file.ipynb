{
 "cells": [
  {
   "cell_type": "code",
   "execution_count": 2,
   "id": "24d345ee",
   "metadata": {},
   "outputs": [],
   "source": [
    "#1.Explain the key features of Python that make it a popular choice for programming."
   ]
  },
  {
   "cell_type": "raw",
   "id": "1cf915a1",
   "metadata": {},
   "source": [
    "python is programming language in which we can write our code or instruction. It is easier than other programming language. \n",
    "Features:\n",
    "1. Easy to understand -> Python is simple language. It has many different library which is used in different application like data science, machine learning, web developement.\n",
    "2. Free and open source -> It is freely available at its offical website. It is open source which means we can downlaod source code also.\n",
    "3. Object Oriented Language -> It supports all features of object oriented programming like concepts of class,object, encapsulation etc.\n",
    "4. In python, the varaible data type does not need to be specified. The memory is automatically allocated at runtime. There is no need of specifying data type.\n",
    "5.We can do frotend development work in python like javascript. "
   ]
  },
  {
   "cell_type": "code",
   "execution_count": 2,
   "id": "c586c0d1",
   "metadata": {},
   "outputs": [],
   "source": [
    "# 2.Describe the role of predefined keywords in Python and provide examples of how they are used in a program."
   ]
  },
  {
   "cell_type": "raw",
   "id": "96df7864",
   "metadata": {},
   "source": [
    "Keyword is type of word which reserves special meaning. We cannot use keyword to define variable. Python language also reserves some of the keywords that convey special meaning. In Python, keywords are case-sensitive.\n",
    "some examples are as below:\n",
    "1. and-> This is a logical operator which returns true if both the operands are true else returns false.\n",
    "2. if->This is used to make a conditional statement.\n",
    "3. while->This keyword is used to create a while loop.\n",
    "4. return->It will return a value and exit the function.\n",
    "5. def->It helps us to define functions."
   ]
  },
  {
   "cell_type": "code",
   "execution_count": 3,
   "id": "e6a343e0",
   "metadata": {},
   "outputs": [],
   "source": [
    "# 3.Compare and contrast mutable and immutable objects in Python with examples."
   ]
  },
  {
   "cell_type": "raw",
   "id": "48a14ba3",
   "metadata": {},
   "source": [
    "1.Mutable objects ->It is an object in python in which we can change or modify it.In Python lists are a widely used data structure that allows the storage and manipulation of a collection of items. One of the key characteristics of lists is their mutability, which refers to the ability to modify the list after it has been created.\n",
    "Mutable objects allow you to modify their contents without changing their identity. Their memory location remains the same.\n",
    "Example: We have created one list that li=[1,2,3,4]. we can delete, add or change any particular value of list li. we will not get any error because it is mutable.\n",
    "\n",
    "2.Immutable obejcts ->It is an object in python in which we cannot change or modify it after creation. Once created, the state or contents of these objects cannot be changed. Any modification creates a new object. Their memory location changes after modification because new object has created.\n",
    "Example: Suppose we have created a tuple as below\n",
    "tuple1 = (0, 1, 2, 3) \n",
    "we want to modify its first element and we have run below command\n",
    "tuple1[0] = 4\n",
    "It has thrown error. Tuple doesnot allow to modify its value because it is immutable object.\n",
    "\n"
   ]
  },
  {
   "cell_type": "code",
   "execution_count": 4,
   "id": "12f3ed97",
   "metadata": {},
   "outputs": [],
   "source": [
    "# 4.Discuss the different types of operators in Python and provide examples of how they are used."
   ]
  },
  {
   "cell_type": "raw",
   "id": "007fbb32",
   "metadata": {},
   "source": [
    "1. Arithmetic Operators ->It is used to do arithmetic operations like addition, subtraction, multiplication etc.\n",
    "Example:\n",
    "Addition -> (+) => 2+3=5\n",
    "Subtraction->(-) =>8-4=4\n",
    "Division-> (/) => 5/2=2.5\n",
    "Floor Division->(//) =>5//2=2\n",
    "\n",
    "2.Comparison Operators -> It is also known as Relational operators.Comparison operators are used to compare two values, and they return a boolean value that is true or false.\n",
    "Example:\n",
    "Equal to -> 5==5 =>True\n",
    "Not equal to ->3!=5 =>True\n",
    "Greater than or equal to -> 5>=6 =>False\n",
    "\n",
    "3.Assignment Operators->Assignment operators are used to assign values to variables.\n",
    "Example:\n",
    "Assign -> x=5\n",
    "Add and assign -> x+=5 which is equivalent to x=x+5\n",
    "\n",
    "4.Logical Operators-> It is used to combine different conditional statements to get results.\n",
    "Example:\n",
    "and ->It will give true if both conditions are true. (5 > 3) and (3 < 10) This will give true.\n",
    "or ->It will give true if at least one condition is true. (5 > 3) or (3 > 10) This will give true because first condition is true.\n",
    "not -> It will invert the value. not(True) this statement will give False.\n",
    "\n",
    "5.Bitwise Operators->It perform bit level operations on integers.\n",
    "Example: \n",
    "Bitwise AND ->5 & 3 , it will give 1 as output.\n",
    "Bitwise XOR\t->5 ^ 3 , it will give 6 as output.\n",
    "\n",
    "6.Identity Operators->Identity operators compare the memory locations of two objects to check if they refer to the same object.\n",
    "Example:\n",
    "is -> It will give true if both objects are same.\n",
    "is not -> It will give true if both objects are not same."
   ]
  },
  {
   "cell_type": "code",
   "execution_count": 5,
   "id": "c68614ad",
   "metadata": {},
   "outputs": [],
   "source": [
    "# 5.Explain the concept of type casting in Python with examples."
   ]
  },
  {
   "cell_type": "raw",
   "id": "62e9588d",
   "metadata": {},
   "source": [
    "Type casting in Python refers to converting one data type into another. It is useful when you want to perform operations that require values to be in a specific type. \n",
    "\n",
    "There are two types of type casting in python.\n",
    "\n",
    "1. Implicit Type Casting->Python automatically converts one data type to another when it’s safe to do so, without losing data. This usually happens when combining two different types, and Python promotes the smaller data type to a larger one to avoid data loss.\n",
    "Example:\n",
    "a=\"2\"\n",
    "b=\"5\"\n",
    "c=a+b=25\n",
    "Here python automatically consider it as string and concatenated both string with plus operator.\n",
    "\n",
    "2. Explicit Type Casting->Explicit type casting requires the programmer to manually convert one data type into another. Python provides built in functions for casting. \n",
    "Examples of built in functions are as below:\n",
    "int()->Converts a value to an integer.\n",
    "float()->Converts a value to a float.\n",
    "str()->Converts a value to a string.\n",
    "bool()->Converts a value to a boolean.\n",
    "\n",
    "Example:\n",
    "x=3.9\n",
    "y=int(x)\n",
    "Here we are manually converting float value to int after removing the decimal parts."
   ]
  },
  {
   "cell_type": "code",
   "execution_count": 6,
   "id": "19eba3fe",
   "metadata": {},
   "outputs": [],
   "source": [
    "# 6.How do conditional statements work in Python? Illustrate with examples."
   ]
  },
  {
   "cell_type": "raw",
   "id": "d51486a4",
   "metadata": {},
   "source": [
    "Conditional statements are used to excute some program based on condition. It is similar to real life problems. For example if there will rain today, then i will not go to playground. The code for this example is as below,\n",
    "if rainning==True:\n",
    "    print(\"i will not go to playground.\")\n",
    "\n",
    "It give power to programmer to execute different action based on different conditions. These are mainly used conditional statements that are if,elif,else. \n",
    "\n",
    "if: Used to test a condition; if the condition is True, the indented block of code inside the if statement is executed.\n",
    "elif: Stands for \"else if\"; it allows for testing additional conditions if the previous if condition is False.\n",
    "else: If all previous conditions are False, the else block is executed as a fallback.\n",
    "\n",
    "Example:\n",
    "1)\n",
    "x = 10\n",
    "if x > 5:\n",
    "    print(\"x is greater than 5\")\n",
    "\n",
    "Output:\n",
    "x is greater than 5\n",
    "\n",
    "2)\n",
    "x = 3\n",
    "if x > 5:\n",
    "    print(\"x is greater than 5\")\n",
    "else:\n",
    "    print(\"x is not greater than 5\")\n",
    "  \n",
    "Output:\n",
    "x is not greater than 5\n",
    "\n",
    "\n"
   ]
  },
  {
   "cell_type": "code",
   "execution_count": 1,
   "id": "205167ca",
   "metadata": {},
   "outputs": [],
   "source": [
    "# 7.Describe the different types of loops in Python and their use cases with examples."
   ]
  },
  {
   "cell_type": "raw",
   "id": "dc072296",
   "metadata": {},
   "source": [
    "In Python, loops are used to repeatedly execute a block of code as long as a condition is met. The main types of loops in Python are:\n",
    "1. for Loop->The for loop is used for iterating over a sequence (like a list, tuple, dictionary, set, or string). It goes through each element in the sequence and executes a block of code.\n",
    "Use case:\n",
    "When you know the number of iterations in advance.\n",
    "Iterating over elements in a collection (list, tuple, etc.)\n",
    "\n",
    "Example:\n",
    "fruits = ['apple', 'banana', 'cherry']\n",
    "for fruit in fruits:\n",
    "    print(fruit)\n",
    "    \n",
    "output:\n",
    "apple\n",
    "banana\n",
    "cherry\n",
    "\n",
    "2. while Loop->The while loop executes as long as a specified condition is True. It checks the condition before each iteration.\n",
    "Use case:\n",
    "When the number of iterations is unknown, and you want to loop until a condition changes (e.g., based on user input or sensor data).\n",
    "\n",
    "Example:\n",
    "count = 0\n",
    "while count < 3:\n",
    "    print(\"Count is:\", count)\n",
    "    count += 1\n",
    "\n",
    "output:\n",
    "Count is: 0\n",
    "Count is: 1\n",
    "Count is: 2\n",
    "\n",
    "3. nested Loops->A nested loop is a loop inside another loop. The inner loop is executed completely for each iteration of the outer loop.\n",
    "Use case:\n",
    "When dealing with multi-dimensional structures, such as iterating through matrices or nested lists.\n",
    "\n",
    "Example:\n",
    "# Nested for loop\n",
    "matrix = [\n",
    "    [1, 2, 3],\n",
    "    [4, 5, 6],\n",
    "    [7, 8, 9]\n",
    "]\n",
    "\n",
    "for row in matrix:\n",
    "    for number in row:\n",
    "        print(number, end=\" \")\n",
    "    print()\n",
    "\n",
    "Output:\n",
    "1 2 3 \n",
    "4 5 6 \n",
    "7 8 9\n",
    "\n",
    "We can use break and continue keyword in loop.\n",
    "break: Exits the loop entirely when a condition is met.\n",
    "continue: Skips the rest of the current iteration and moves on to the next iteration.\n",
    "\n",
    "Example of break:\n",
    "for i in range(5):\n",
    "    if i == 3:\n",
    "        break\n",
    "    print(i)\n",
    "\n",
    "output:\n",
    "0\n",
    "1\n",
    "2\n",
    "\n",
    "Example of continue:\n",
    "for i in range(5):\n",
    "    if i == 3:\n",
    "        continue\n",
    "    print(i)\n",
    "\n",
    "Output:\n",
    "0\n",
    "1\n",
    "2\n",
    "4"
   ]
  }
 ],
 "metadata": {
  "kernelspec": {
   "display_name": "Python 3 (ipykernel)",
   "language": "python",
   "name": "python3"
  },
  "language_info": {
   "codemirror_mode": {
    "name": "ipython",
    "version": 3
   },
   "file_extension": ".py",
   "mimetype": "text/x-python",
   "name": "python",
   "nbconvert_exporter": "python",
   "pygments_lexer": "ipython3",
   "version": "3.11.5"
  }
 },
 "nbformat": 4,
 "nbformat_minor": 5
}
