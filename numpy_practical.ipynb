{
 "cells": [
  {
   "cell_type": "code",
   "execution_count": 3,
   "id": "20b52019",
   "metadata": {},
   "outputs": [
    {
     "name": "stdout",
     "output_type": "stream",
     "text": [
      "Original Array: \n",
      " [[66  2 81]\n",
      " [18 72 51]\n",
      " [59 28  6]]\n",
      "Transposed Array: \n",
      " [[66 18 59]\n",
      " [ 2 72 28]\n",
      " [81 51  6]]\n"
     ]
    }
   ],
   "source": [
    "# 1.Create a 3x3 NumPy array with random integers between 1 and 100. Then, interchange its rows and columns.\n",
    "\n",
    "import numpy as np\n",
    "arr1 = np.random.randint(1, 101, size=(3, 3))\n",
    "print(\"Original Array: \\n\",arr1)\n",
    "\n",
    "arr2 = arr1.T\n",
    "print(\"Transposed Array: \\n\",arr2)\n",
    "\n",
    "# output:\n",
    "# Original Array: \n",
    "#  [[66  2 81]\n",
    "#  [18 72 51]\n",
    "#  [59 28  6]]\n",
    "# Transposed Array: \n",
    "#  [[66 18 59]\n",
    "#  [ 2 72 28]\n",
    "#  [81 51  6]]"
   ]
  },
  {
   "cell_type": "code",
   "execution_count": 5,
   "id": "c884e84e",
   "metadata": {},
   "outputs": [
    {
     "name": "stdout",
     "output_type": "stream",
     "text": [
      "Original ID Array:\n",
      "[0 1 2 3 4 5 6 7 8 9]\n",
      "\n",
      "Reshaped 2x5 Array:\n",
      "[[0 1 2 3 4]\n",
      " [5 6 7 8 9]]\n",
      "\n",
      "Reshaped 5x2 Array:\n",
      "[[0 1]\n",
      " [2 3]\n",
      " [4 5]\n",
      " [6 7]\n",
      " [8 9]]\n"
     ]
    }
   ],
   "source": [
    "# 2.Generate a ID NumPy array with 10 elements. Reshape it into a 2x5 array, then into a 5x2 array.\n",
    "\n",
    "import numpy as np\n",
    "arr1 = np.arange(10)\n",
    "arr2 = arr1.reshape(2, 5)\n",
    "arr3 = arr2.reshape(5, 2)\n",
    "\n",
    "print(\"Original ID Array:\")\n",
    "print(arr1)\n",
    "\n",
    "print(\"\\nReshaped 2x5 Array:\")\n",
    "print(arr2)\n",
    "\n",
    "print(\"\\nReshaped 5x2 Array:\")\n",
    "print(arr3)\n",
    "\n",
    "# output:\n",
    "# Original ID Array:\n",
    "# [0 1 2 3 4 5 6 7 8 9]\n",
    "\n",
    "# Reshaped 2x5 Array:\n",
    "# [[0 1 2 3 4]\n",
    "#  [5 6 7 8 9]]\n",
    "\n",
    "# Reshaped 5x2 Array:\n",
    "# [[0 1]\n",
    "#  [2 3]\n",
    "#  [4 5]\n",
    "#  [6 7]\n",
    "#  [8 9]]\n"
   ]
  },
  {
   "cell_type": "code",
   "execution_count": 6,
   "id": "22bb77e1",
   "metadata": {},
   "outputs": [
    {
     "name": "stdout",
     "output_type": "stream",
     "text": [
      "Original 4x4 Array:\n",
      "[[0.93609419 0.16699074 0.18340969 0.19183825]\n",
      " [0.38592011 0.16514533 0.9051364  0.90382659]\n",
      " [0.95152757 0.37103141 0.4483854  0.61156005]\n",
      " [0.71382502 0.11410027 0.65283454 0.54218851]]\n",
      "\n",
      "6x6 Array with Zero Border:\n",
      "[[0.         0.         0.         0.         0.         0.        ]\n",
      " [0.         0.93609419 0.16699074 0.18340969 0.19183825 0.        ]\n",
      " [0.         0.38592011 0.16514533 0.9051364  0.90382659 0.        ]\n",
      " [0.         0.95152757 0.37103141 0.4483854  0.61156005 0.        ]\n",
      " [0.         0.71382502 0.11410027 0.65283454 0.54218851 0.        ]\n",
      " [0.         0.         0.         0.         0.         0.        ]]\n"
     ]
    }
   ],
   "source": [
    "# 3.Create a 4x4 NumPy array with random float values. Add a border of zeros around it, resulting in a 6x6 array.\n",
    "\n",
    "import numpy as np\n",
    "original_array = np.random.rand(4, 4)\n",
    "bordered_array = np.pad(original_array, pad_width=1, mode='constant', constant_values=0)\n",
    "print(\"Original 4x4 Array:\")\n",
    "print(original_array)\n",
    "print(\"\\n6x6 Array with Zero Border:\")\n",
    "print(bordered_array)\n",
    "\n",
    "# output:\n",
    "# Original 4x4 Array:\n",
    "# [[0.93609419 0.16699074 0.18340969 0.19183825]\n",
    "#  [0.38592011 0.16514533 0.9051364  0.90382659]\n",
    "#  [0.95152757 0.37103141 0.4483854  0.61156005]\n",
    "#  [0.71382502 0.11410027 0.65283454 0.54218851]]\n",
    "\n",
    "# 6x6 Array with Zero Border:\n",
    "# [[0.         0.         0.         0.         0.         0.        ]\n",
    "#  [0.         0.93609419 0.16699074 0.18340969 0.19183825 0.        ]\n",
    "#  [0.         0.38592011 0.16514533 0.9051364  0.90382659 0.        ]\n",
    "#  [0.         0.95152757 0.37103141 0.4483854  0.61156005 0.        ]\n",
    "#  [0.         0.71382502 0.11410027 0.65283454 0.54218851 0.        ]\n",
    "#  [0.         0.         0.         0.         0.         0.        ]]"
   ]
  },
  {
   "cell_type": "code",
   "execution_count": 9,
   "id": "87e03091",
   "metadata": {},
   "outputs": [
    {
     "name": "stdout",
     "output_type": "stream",
     "text": [
      "[10 15 20 25 30 35 40 45 50 55 60]\n"
     ]
    }
   ],
   "source": [
    "# 4.Using NumPy, create an array of integers from 10 to 60 with a step of 5.\n",
    "\n",
    "import numpy as np\n",
    "integer_array = np.arange(10, 61, 5)\n",
    "print(integer_array)\n",
    "\n",
    "# output:\n",
    "# [10 15 20 25 30 35 40 45 50 55 60]"
   ]
  },
  {
   "cell_type": "code",
   "execution_count": 10,
   "id": "1bd16427",
   "metadata": {},
   "outputs": [
    {
     "name": "stdout",
     "output_type": "stream",
     "text": [
      "Original Array:  ['python' 'numpy' 'pandas']\n",
      "Uppercase:  ['PYTHON' 'NUMPY' 'PANDAS']\n",
      "Lowercase:  ['python' 'numpy' 'pandas']\n",
      "Title Case:  ['Python' 'Numpy' 'Pandas']\n",
      "Capitalize:  ['Python' 'Numpy' 'Pandas']\n"
     ]
    }
   ],
   "source": [
    "# 5.Create a NumPy array of strings ['python', 'numpy', 'pandas']. Apply different case transformations \n",
    "# (uppercase, lowercase, title case, etc.) to each element.\n",
    "\n",
    "import numpy as np\n",
    "string_array = np.array(['python', 'numpy', 'pandas'])\n",
    "uppercase_array = np.char.upper(string_array) \n",
    "lowercase_array = np.char.lower(string_array)   \n",
    "titlecase_array = np.char.title(string_array)  \n",
    "capitalize_array = np.char.capitalize(string_array) \n",
    "\n",
    "print(\"Original Array: \", string_array)\n",
    "print(\"Uppercase: \", uppercase_array)\n",
    "print(\"Lowercase: \", lowercase_array)\n",
    "print(\"Title Case: \", titlecase_array)\n",
    "print(\"Capitalize: \", capitalize_array)\n",
    "\n",
    "# output:\n",
    "# Original Array:  ['python' 'numpy' 'pandas']\n",
    "# Uppercase:  ['PYTHON' 'NUMPY' 'PANDAS']\n",
    "# Lowercase:  ['python' 'numpy' 'pandas']\n",
    "# Title Case:  ['Python' 'Numpy' 'Pandas']\n",
    "# Capitalize:  ['Python' 'Numpy' 'Pandas']\n"
   ]
  },
  {
   "cell_type": "code",
   "execution_count": 11,
   "id": "07ba6bd5",
   "metadata": {},
   "outputs": [
    {
     "name": "stdout",
     "output_type": "stream",
     "text": [
      "['n u m p y' 'p y t h o n' 'p a n d a s']\n"
     ]
    }
   ],
   "source": [
    "# 6.Generate a NumPy array of words. Insert a space between each character of every word in the array.\n",
    "\n",
    "import numpy as np\n",
    "words_array = np.array(['numpy', 'python', 'pandas'])\n",
    "spaced_words_array = np.array([' '.join(word) for word in words_array])\n",
    "print(spaced_words_array)\n",
    "\n",
    "# output:\n",
    "# ['n u m p y' 'p y t h o n' 'p a n d a s']"
   ]
  },
  {
   "cell_type": "code",
   "execution_count": 12,
   "id": "c11e8f80",
   "metadata": {},
   "outputs": [
    {
     "name": "stdout",
     "output_type": "stream",
     "text": [
      "Addition:\n",
      " [[11 22 33]\n",
      " [44 55 66]]\n",
      "Subtraction:\n",
      " [[ -9 -18 -27]\n",
      " [-36 -45 -54]]\n",
      "Multiplication:\n",
      " [[ 10  40  90]\n",
      " [160 250 360]]\n",
      "Division:\n",
      " [[0.1 0.1 0.1]\n",
      " [0.1 0.1 0.1]]\n"
     ]
    }
   ],
   "source": [
    "# 7.Create two 2D NumPy arrays and perform element-wise addition, subtraction, multiplication, and division.\n",
    "\n",
    "import numpy as np\n",
    "array1 = np.array([[1, 2, 3], [4, 5, 6]])\n",
    "array2 = np.array([[10, 20, 30], [40, 50, 60]])\n",
    "\n",
    "addition = array1 + array2         \n",
    "subtraction = array1 - array2     \n",
    "multiplication = array1 * array2 \n",
    "division = array1 / array2        \n",
    "\n",
    "print(\"Addition:\\n\", addition)\n",
    "print(\"Subtraction:\\n\", subtraction)\n",
    "print(\"Multiplication:\\n\", multiplication)\n",
    "print(\"Division:\\n\", division)\n",
    "\n",
    "# output:\n",
    "# Addition:\n",
    "#  [[11 22 33]\n",
    "#  [44 55 66]]\n",
    "# Subtraction:\n",
    "#  [[ -9 -18 -27]\n",
    "#  [-36 -45 -54]]\n",
    "# Multiplication:\n",
    "#  [[ 10  40  90]\n",
    "#  [160 250 360]]\n",
    "# Division:\n",
    "#  [[0.1 0.1 0.1]\n",
    "#  [0.1 0.1 0.1]]"
   ]
  },
  {
   "cell_type": "code",
   "execution_count": 13,
   "id": "6cea9489",
   "metadata": {},
   "outputs": [
    {
     "name": "stdout",
     "output_type": "stream",
     "text": [
      "Identity Matrix:\n",
      " [[1. 0. 0. 0. 0.]\n",
      " [0. 1. 0. 0. 0.]\n",
      " [0. 0. 1. 0. 0.]\n",
      " [0. 0. 0. 1. 0.]\n",
      " [0. 0. 0. 0. 1.]]\n",
      "Diagonal Elements: [1. 1. 1. 1. 1.]\n"
     ]
    }
   ],
   "source": [
    "# 8. Use NumPy to create a 5x5 identity matrix, then extract its diagonal elements.\n",
    "\n",
    "import numpy as np\n",
    "identity_matrix = np.eye(5)\n",
    "diagonal_elements = np.diagonal(identity_matrix)\n",
    "print(\"Identity Matrix:\\n\", identity_matrix)\n",
    "print(\"Diagonal Elements:\", diagonal_elements)\n",
    "\n",
    "# output:\n",
    "# Identity Matrix:\n",
    "#  [[1. 0. 0. 0. 0.]\n",
    "#  [0. 1. 0. 0. 0.]\n",
    "#  [0. 0. 1. 0. 0.]\n",
    "#  [0. 0. 0. 1. 0.]\n",
    "#  [0. 0. 0. 0. 1.]]\n",
    "# Diagonal Elements: [1. 1. 1. 1. 1.]"
   ]
  },
  {
   "cell_type": "code",
   "execution_count": 14,
   "id": "ad957ee4",
   "metadata": {},
   "outputs": [
    {
     "name": "stdout",
     "output_type": "stream",
     "text": [
      "Random Integers:\n",
      " [ 239  543  175  858  298  939  380  163  454  528  899  931  913  623\n",
      "  275  562  891  630  898  962  241  788   68  596  859  307  268 1000\n",
      "  217  913  902  634  946   11  275  224  106  127  759  166  829  813\n",
      "  762  958  279  395  517   70  437  223   56  130  500  980  819  266\n",
      "  631  300  441  141  107  859  416  366  609  486  608   74  739   12\n",
      "  484  642  889  763  683  390  211  353  736  606  918   83  574  882\n",
      "  492  558  640  831  579   79  469  848  560  579  428  263  684  363\n",
      "  533  754]\n",
      "Prime Numbers in the Array: [239, 163, 241, 859, 307, 11, 127, 829, 223, 631, 107, 859, 739, 683, 211, 353, 83, 79, 263]\n"
     ]
    }
   ],
   "source": [
    "# 9.Generate a NumPy array of 100 random integers between 0 and 1000. Find and display all prime numbers in \n",
    "# this array.\n",
    "\n",
    "import numpy as np\n",
    "random_integers = np.random.randint(0, 1001, size=100)\n",
    "def is_prime(num):\n",
    "    if num <= 1:\n",
    "        return False\n",
    "    for i in range(2, int(num**0.5) + 1):\n",
    "        if num % i == 0:\n",
    "            return False\n",
    "    return True\n",
    "prime_numbers = [num for num in random_integers if is_prime(num)]\n",
    "print(\"Random Integers:\\n\", random_integers)\n",
    "print(\"Prime Numbers in the Array:\", prime_numbers)\n",
    "\n",
    "# output:\n",
    "# Random Integers:\n",
    "#  [ 239  543  175  858  298  939  380  163  454  528  899  931  913  623\n",
    "#   275  562  891  630  898  962  241  788   68  596  859  307  268 1000\n",
    "#   217  913  902  634  946   11  275  224  106  127  759  166  829  813\n",
    "#   762  958  279  395  517   70  437  223   56  130  500  980  819  266\n",
    "#   631  300  441  141  107  859  416  366  609  486  608   74  739   12\n",
    "#   484  642  889  763  683  390  211  353  736  606  918   83  574  882\n",
    "#   492  558  640  831  579   79  469  848  560  579  428  263  684  363\n",
    "#   533  754]\n",
    "# Prime Numbers in the Array: [239, 163, 241, 859, 307, 11, 127, 829, 223, 631, 107, 859, 739, 683, 211, 353, 83, 79, 263]\n"
   ]
  },
  {
   "cell_type": "code",
   "execution_count": 19,
   "id": "ea074e97",
   "metadata": {},
   "outputs": [
    {
     "name": "stdout",
     "output_type": "stream",
     "text": [
      "Daily Temperatures for the Month: [32 25 20 23 31 23 27 29 23 25 22 24 27 26 28 28 32 30 21 26 27 27 34 28\n",
      " 21 25 29 33 28 29  0  0  0  0  0]\n",
      "Weekly Averages: [25.85714286 25.14285714 27.42857143 28.14285714  8.14285714]\n"
     ]
    }
   ],
   "source": [
    "# 10.Create a NumPy array representing daily temperatures for a month. Calculate and display the weekly averages.\n",
    "\n",
    "import numpy as np\n",
    "np.random.seed(0)\n",
    "daily_temperatures = np.random.randint(20, 35, size=30) \n",
    "num_weeks = (len(daily_temperatures) + 6) // 7 \n",
    "if len(daily_temperatures) % 7 != 0:\n",
    "    padding_length = 7 - (len(daily_temperatures) % 7)\n",
    "    daily_temperatures = np.pad(daily_temperatures, (0, padding_length), 'constant', constant_values=0)\n",
    "weekly_temperatures = daily_temperatures.reshape(-1, 7)\n",
    "weekly_averages = np.mean(weekly_temperatures, axis=1)\n",
    "print(\"Daily Temperatures for the Month:\", daily_temperatures)\n",
    "print(\"Weekly Averages:\", weekly_averages)\n",
    "\n",
    "# output:\n",
    "# Daily Temperatures for the Month: [32 25 20 23 31 23 27 29 23 25 22 24 27 26 28 28 32 30 21 26 27 27 34 28\n",
    "#  21 25 29 33 28 29  0  0  0  0  0]\n",
    "# Weekly Averages: [25.85714286 25.14285714 27.42857143 28.14285714  8.14285714]"
   ]
  },
  {
   "cell_type": "code",
   "execution_count": null,
   "id": "215a3a37",
   "metadata": {},
   "outputs": [],
   "source": []
  }
 ],
 "metadata": {
  "kernelspec": {
   "display_name": "Python 3 (ipykernel)",
   "language": "python",
   "name": "python3"
  },
  "language_info": {
   "codemirror_mode": {
    "name": "ipython",
    "version": 3
   },
   "file_extension": ".py",
   "mimetype": "text/x-python",
   "name": "python",
   "nbconvert_exporter": "python",
   "pygments_lexer": "ipython3",
   "version": "3.11.5"
  }
 },
 "nbformat": 4,
 "nbformat_minor": 5
}
